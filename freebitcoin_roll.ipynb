{
 "cells": [
  {
   "cell_type": "code",
   "execution_count": 1,
   "metadata": {},
   "outputs": [],
   "source": [
    "import  random\n",
    "lucky1=[]\n",
    "lucky2=[]\n",
    "lucky3=[]\n",
    "lucky4=[]\n",
    "lucky5=[]\n",
    "for item in range(9886):\n",
    "    lucky1.append(item)\n",
    "for item in range(9886,9986):\n",
    "    lucky2.append(item)\n",
    "for item in range(9986,9994):\n",
    "    lucky3.append(item)\n",
    "for item in range(9994,9998):\n",
    "    lucky4.append(item)\n",
    "lucky5=[9998,9999]\n",
    "lucky6=[10000]\n"
   ]
  },
  {
   "cell_type": "code",
   "execution_count": 10,
   "metadata": {},
   "outputs": [
    {
     "data": {
      "text/plain": [
       "'x = input(\"Press r to roll: \")\\nif x ==\\'r\\':\\n    a1 = random.choices(all_lists,[5,2,1,.2,.1,.001],k=1)\\n    a2 = random.choice(a1[0])\\n    print(\"Your number is : \", a2)'"
      ]
     },
     "execution_count": 10,
     "metadata": {},
     "output_type": "execute_result"
    }
   ],
   "source": [
    "'''x = input(\"Press r to roll: \")\n",
    "if x =='r':\n",
    "    a1 = random.choices(all_lists,[5,2,1,.2,.1,.001],k=1)\n",
    "    a2 = random.choice(a1[0])\n",
    "    print(\"Your number is : \", a2)\n",
    "totalroll=[]\n",
    "for item in range(0,10000):\n",
    "    totalroll.append(item)\n",
    "\n",
    "all_lists =[lucky1,lucky2,lucky3,lucky4,lucky5,lucky6]\n",
    "'''"
   ]
  },
  {
   "cell_type": "code",
   "execution_count": 15,
   "metadata": {},
   "outputs": [
    {
     "name": "stdout",
     "output_type": "stream",
     "text": [
      "Press r key to ROLL : r\n",
      "Your lucky number TODAY is : 3529\n",
      "You WON 05 satoshis\n"
     ]
    }
   ],
   "source": [
    "x=input('Press r key to ROLL : ')\n",
    "\n",
    "if x=='r':\n",
    "    roll_list=random.choices([lucky1,lucky2,lucky3,lucky4,lucky5,lucky6],[100,10,1,.1,.01,.001],k=1)\n",
    "    roll_number=random.choice(roll_list[0])\n",
    "    #print(type(roll_list))\n",
    "    print(\"Your lucky number TODAY is :\",roll_number)\n",
    "    if roll_number in lucky1:\n",
    "        print(\"You WON 05 satoshis\")\n",
    "    elif roll_number in lucky2:\n",
    "        print(\"You WON 50 satoshis\")\n",
    "    elif roll_number in lucky3:\n",
    "        print(\"You WON 500 satoshis\")\n",
    "    elif roll_number in lucky4:\n",
    "        print(\"You WON 5000 satoshis\")\n",
    "    elif roll_number in lucky5:\n",
    "        print(\"You WON 50000 satoshis\")\n",
    "    elif roll_number in lucky6:\n",
    "        print(\"You WON 500000 satoshis\")\n",
    "        \n",
    "else:\n",
    "    print(\"Enter correct key\")"
   ]
  },
  {
   "cell_type": "code",
   "execution_count": null,
   "metadata": {},
   "outputs": [],
   "source": []
  }
 ],
 "metadata": {
  "kernelspec": {
   "display_name": "Python 3",
   "language": "python",
   "name": "python3"
  },
  "language_info": {
   "codemirror_mode": {
    "name": "ipython",
    "version": 3
   },
   "file_extension": ".py",
   "mimetype": "text/x-python",
   "name": "python",
   "nbconvert_exporter": "python",
   "pygments_lexer": "ipython3",
   "version": "3.7.6"
  }
 },
 "nbformat": 4,
 "nbformat_minor": 4
}
