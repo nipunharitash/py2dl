{
 "cells": [
  {
   "cell_type": "code",
   "execution_count": 3,
   "metadata": {},
   "outputs": [
    {
     "name": "stdout",
     "output_type": "stream",
     "text": [
      "Enter your choice: rock\n",
      "paper\n"
     ]
    }
   ],
   "source": [
    "rps = ['rock','paper','scissors']\n",
    "import random\n",
    "computer_choice=random.choice(rps)\n",
    "\n",
    "user_choice =input('Enter your choice: ')\n",
    "print(computer_choice)"
   ]
  },
  {
   "cell_type": "code",
   "execution_count": 4,
   "metadata": {},
   "outputs": [
    {
     "name": "stdout",
     "output_type": "stream",
     "text": [
      "Enter your choice: scissors\n",
      "Computer Choice was  rock You Loose\n",
      "Enter your choice: rock\n",
      "Computer Choice was  paper You Loose\n",
      "Enter your choice: paper\n",
      "Computer Choice was  paper Its a Tie Try Again\n"
     ]
    }
   ],
   "source": [
    "while True:\n",
    "    rps = ['rock','paper','scissors']\n",
    "    computer_choice=random.choice(rps)\n",
    "    user_choice =input('Enter your choice: ')\n",
    "    if user_choice == computer_choice:\n",
    "        print(\"Computer Choice was \",computer_choice,\"Its a Tie Try Again\")\n",
    "        break\n",
    "    else:\n",
    "        if (computer_choice == 'rock' and user_choice =='paper'):\n",
    "            print(\"Computer Choice was \",computer_choice, \"You Win\")\n",
    "        elif (computer_choice == 'rock' and user_choice =='scissors'):\n",
    "            print(\"Computer Choice was \",computer_choice, \"You Loose\")\n",
    "        elif (computer_choice == 'paper' and user_choice =='rock'):\n",
    "            print(\"Computer Choice was \",computer_choice, \"You Loose\")\n",
    "        elif (computer_choice == 'paper' and user_choice =='scissors'):\n",
    "            print(\"Computer Choice was \",computer_choice, \"You Win\")\n",
    "        elif (computer_choice == 'scissors' and user_choice =='rock'):\n",
    "            print(\"Computer Choice was \",computer_choice, \"You Win\")\n",
    "        elif (computer_choice == 'scissors' and user_choice =='paper'):\n",
    "            print(\"Computer Choice was \",computer_choice, \"You Loose\")\n",
    "            \n"
   ]
  },
  {
   "cell_type": "code",
   "execution_count": null,
   "metadata": {},
   "outputs": [],
   "source": []
  },
  {
   "cell_type": "code",
   "execution_count": null,
   "metadata": {},
   "outputs": [],
   "source": []
  }
 ],
 "metadata": {
  "kernelspec": {
   "display_name": "Python 3",
   "language": "python",
   "name": "python3"
  },
  "language_info": {
   "codemirror_mode": {
    "name": "ipython",
    "version": 3
   },
   "file_extension": ".py",
   "mimetype": "text/x-python",
   "name": "python",
   "nbconvert_exporter": "python",
   "pygments_lexer": "ipython3",
   "version": "3.7.6"
  }
 },
 "nbformat": 4,
 "nbformat_minor": 4
}
