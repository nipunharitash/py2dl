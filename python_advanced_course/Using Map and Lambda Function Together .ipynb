{
 "cells": [
  {
   "cell_type": "code",
   "execution_count": 1,
   "metadata": {},
   "outputs": [],
   "source": [
    "##lambda and map functions"
   ]
  },
  {
   "cell_type": "code",
   "execution_count": 13,
   "metadata": {},
   "outputs": [],
   "source": [
    "#function done\n",
    "#iterator\n",
    "def triple(x):\n",
    "    return x+x+x\n",
    "\n"
   ]
  },
  {
   "cell_type": "code",
   "execution_count": 15,
   "metadata": {},
   "outputs": [
    {
     "name": "stdout",
     "output_type": "stream",
     "text": [
      "102\n"
     ]
    },
    {
     "data": {
      "text/plain": [
       "16"
      ]
     },
     "execution_count": 15,
     "metadata": {},
     "output_type": "execute_result"
    }
   ],
   "source": [
    "#print(triple(34))\n",
    "triple_bias(2,10)"
   ]
  },
  {
   "cell_type": "code",
   "execution_count": 10,
   "metadata": {},
   "outputs": [
    {
     "data": {
      "text/plain": [
       "[3, 9, 15, 21, 27, 33, 39, 45, 51, 57]"
      ]
     },
     "execution_count": 10,
     "metadata": {},
     "output_type": "execute_result"
    }
   ],
   "source": [
    "tri =[]\n",
    "for i in range(1,20,2):\n",
    "    tri.append(triple(i))\n",
    "    \n",
    "tri"
   ]
  },
  {
   "cell_type": "code",
   "execution_count": 11,
   "metadata": {},
   "outputs": [],
   "source": [
    "strange_numbers = [47,79,901,83]"
   ]
  },
  {
   "cell_type": "code",
   "execution_count": 12,
   "metadata": {},
   "outputs": [
    {
     "data": {
      "text/plain": [
       "[141, 237, 2703, 249]"
      ]
     },
     "execution_count": 12,
     "metadata": {},
     "output_type": "execute_result"
    }
   ],
   "source": [
    "tri_st =[]\n",
    "for item in strange_numbers:\n",
    "    tri_st.append(triple(item))\n",
    "    \n",
    "tri_st"
   ]
  },
  {
   "cell_type": "code",
   "execution_count": 39,
   "metadata": {},
   "outputs": [],
   "source": [
    "def triple_bias(x,y,z):\n",
    "    return ((3*x) + y -z)"
   ]
  },
  {
   "cell_type": "code",
   "execution_count": 33,
   "metadata": {},
   "outputs": [
    {
     "data": {
      "text/plain": [
       "50"
      ]
     },
     "execution_count": 33,
     "metadata": {},
     "output_type": "execute_result"
    }
   ],
   "source": [
    "x = []\n",
    "for i in range(1,51):\n",
    "    x.append(i)\n",
    "    \n",
    "len(x)"
   ]
  },
  {
   "cell_type": "code",
   "execution_count": 34,
   "metadata": {},
   "outputs": [
    {
     "data": {
      "text/plain": [
       "50"
      ]
     },
     "execution_count": 34,
     "metadata": {},
     "output_type": "execute_result"
    }
   ],
   "source": [
    "y = []\n",
    "for i in range(51,101):\n",
    "    y.append(i)\n",
    "len(y)"
   ]
  },
  {
   "cell_type": "code",
   "execution_count": 35,
   "metadata": {},
   "outputs": [
    {
     "data": {
      "text/plain": [
       "50"
      ]
     },
     "execution_count": 35,
     "metadata": {},
     "output_type": "execute_result"
    }
   ],
   "source": [
    "z = []\n",
    "for i in range(101,151):\n",
    "    z.append(i)\n",
    "len(z)"
   ]
  },
  {
   "cell_type": "code",
   "execution_count": 36,
   "metadata": {},
   "outputs": [
    {
     "data": {
      "text/plain": [
       "[(1, 51, 101),\n",
       " (2, 52, 102),\n",
       " (3, 53, 103),\n",
       " (4, 54, 104),\n",
       " (5, 55, 105),\n",
       " (6, 56, 106),\n",
       " (7, 57, 107),\n",
       " (8, 58, 108),\n",
       " (9, 59, 109),\n",
       " (10, 60, 110),\n",
       " (11, 61, 111),\n",
       " (12, 62, 112),\n",
       " (13, 63, 113),\n",
       " (14, 64, 114),\n",
       " (15, 65, 115),\n",
       " (16, 66, 116),\n",
       " (17, 67, 117),\n",
       " (18, 68, 118),\n",
       " (19, 69, 119),\n",
       " (20, 70, 120),\n",
       " (21, 71, 121),\n",
       " (22, 72, 122),\n",
       " (23, 73, 123),\n",
       " (24, 74, 124),\n",
       " (25, 75, 125),\n",
       " (26, 76, 126),\n",
       " (27, 77, 127),\n",
       " (28, 78, 128),\n",
       " (29, 79, 129),\n",
       " (30, 80, 130),\n",
       " (31, 81, 131),\n",
       " (32, 82, 132),\n",
       " (33, 83, 133),\n",
       " (34, 84, 134),\n",
       " (35, 85, 135),\n",
       " (36, 86, 136),\n",
       " (37, 87, 137),\n",
       " (38, 88, 138),\n",
       " (39, 89, 139),\n",
       " (40, 90, 140),\n",
       " (41, 91, 141),\n",
       " (42, 92, 142),\n",
       " (43, 93, 143),\n",
       " (44, 94, 144),\n",
       " (45, 95, 145),\n",
       " (46, 96, 146),\n",
       " (47, 97, 147),\n",
       " (48, 98, 148),\n",
       " (49, 99, 149),\n",
       " (50, 100, 150)]"
      ]
     },
     "execution_count": 36,
     "metadata": {},
     "output_type": "execute_result"
    }
   ],
   "source": [
    "w=zip(x,y,z)\n",
    "list(w)"
   ]
  },
  {
   "cell_type": "code",
   "execution_count": 38,
   "metadata": {},
   "outputs": [
    {
     "data": {
      "text/plain": [
       "[-47,\n",
       " -44,\n",
       " -41,\n",
       " -38,\n",
       " -35,\n",
       " -32,\n",
       " -29,\n",
       " -26,\n",
       " -23,\n",
       " -20,\n",
       " -17,\n",
       " -14,\n",
       " -11,\n",
       " -8,\n",
       " -5,\n",
       " -2,\n",
       " 1,\n",
       " 4,\n",
       " 7,\n",
       " 10,\n",
       " 13,\n",
       " 16,\n",
       " 19,\n",
       " 22,\n",
       " 25,\n",
       " 28,\n",
       " 31,\n",
       " 34,\n",
       " 37,\n",
       " 40,\n",
       " 43,\n",
       " 46,\n",
       " 49,\n",
       " 52,\n",
       " 55,\n",
       " 58,\n",
       " 61,\n",
       " 64,\n",
       " 67,\n",
       " 70,\n",
       " 73,\n",
       " 76,\n",
       " 79,\n",
       " 82,\n",
       " 85,\n",
       " 88,\n",
       " 91,\n",
       " 94,\n",
       " 97,\n",
       " 100]"
      ]
     },
     "execution_count": 38,
     "metadata": {},
     "output_type": "execute_result"
    }
   ],
   "source": [
    "triple_bias_list = []\n",
    "for i,j,k in zip(x,y,z):\n",
    "    triple_bias_list.append(triple_bias(i,j,k))\n",
    "\n",
    "triple_bias_list    "
   ]
  },
  {
   "cell_type": "code",
   "execution_count": 40,
   "metadata": {},
   "outputs": [],
   "source": [
    "#to see signatures press shif+tab\n",
    "tb_map=map(triple_bias,x,y,z)"
   ]
  },
  {
   "cell_type": "code",
   "execution_count": 41,
   "metadata": {},
   "outputs": [
    {
     "data": {
      "text/plain": [
       "[-47,\n",
       " -44,\n",
       " -41,\n",
       " -38,\n",
       " -35,\n",
       " -32,\n",
       " -29,\n",
       " -26,\n",
       " -23,\n",
       " -20,\n",
       " -17,\n",
       " -14,\n",
       " -11,\n",
       " -8,\n",
       " -5,\n",
       " -2,\n",
       " 1,\n",
       " 4,\n",
       " 7,\n",
       " 10,\n",
       " 13,\n",
       " 16,\n",
       " 19,\n",
       " 22,\n",
       " 25,\n",
       " 28,\n",
       " 31,\n",
       " 34,\n",
       " 37,\n",
       " 40,\n",
       " 43,\n",
       " 46,\n",
       " 49,\n",
       " 52,\n",
       " 55,\n",
       " 58,\n",
       " 61,\n",
       " 64,\n",
       " 67,\n",
       " 70,\n",
       " 73,\n",
       " 76,\n",
       " 79,\n",
       " 82,\n",
       " 85,\n",
       " 88,\n",
       " 91,\n",
       " 94,\n",
       " 97,\n",
       " 100]"
      ]
     },
     "execution_count": 41,
     "metadata": {},
     "output_type": "execute_result"
    }
   ],
   "source": [
    "list(tb_map)"
   ]
  },
  {
   "cell_type": "code",
   "execution_count": null,
   "metadata": {},
   "outputs": [],
   "source": [
    "def triple_bias(x,y,z):\n",
    "    return ((3*x) + y -z)"
   ]
  },
  {
   "cell_type": "code",
   "execution_count": 45,
   "metadata": {},
   "outputs": [],
   "source": [
    "map1 = map(triple_bias,[1,6,8,3,4],[2,12,0,9,2],[3,4,2,6,0])"
   ]
  },
  {
   "cell_type": "code",
   "execution_count": 46,
   "metadata": {},
   "outputs": [
    {
     "data": {
      "text/plain": [
       "[2, 26, 22, 12, 14]"
      ]
     },
     "execution_count": 46,
     "metadata": {},
     "output_type": "execute_result"
    }
   ],
   "source": [
    "list(map1)"
   ]
  },
  {
   "cell_type": "code",
   "execution_count": 47,
   "metadata": {},
   "outputs": [],
   "source": [
    "lambda1 = lambda x,y : x+y if x>y else x-y"
   ]
  },
  {
   "cell_type": "code",
   "execution_count": 50,
   "metadata": {},
   "outputs": [
    {
     "data": {
      "text/plain": [
       "function"
      ]
     },
     "execution_count": 50,
     "metadata": {},
     "output_type": "execute_result"
    }
   ],
   "source": [
    "type(lambda1)"
   ]
  },
  {
   "cell_type": "code",
   "execution_count": 54,
   "metadata": {},
   "outputs": [],
   "source": [
    "lambda2 = lambda x: x**3"
   ]
  },
  {
   "cell_type": "code",
   "execution_count": 55,
   "metadata": {},
   "outputs": [],
   "source": [
    "map2 = map(lambda a,b,c: a**2 + b**3 + c**.5 , x,y,z)"
   ]
  },
  {
   "cell_type": "code",
   "execution_count": 57,
   "metadata": {},
   "outputs": [
    {
     "data": {
      "text/plain": [
       "[132662.04987562113,\n",
       " 140622.09950493835,\n",
       " 148896.1488915651,\n",
       " 157490.1980390272,\n",
       " 166410.24695076596,\n",
       " 175662.295630141,\n",
       " 185252.34408043278,\n",
       " 195186.39230484542,\n",
       " 205470.4403065089,\n",
       " 216110.4880884817,\n",
       " 227112.53565375286,\n",
       " 238482.58300524426,\n",
       " 250226.63014581273,\n",
       " 262350.677078252,\n",
       " 274860.7238052948,\n",
       " 287762.7703296143,\n",
       " 301062.8166538264,\n",
       " 314766.8627804912,\n",
       " 328880.9087121146,\n",
       " 343410.9544511501,\n",
       " 358363.0,\n",
       " 373743.04536101717,\n",
       " 389557.0905365064,\n",
       " 405811.1355287257,\n",
       " 422511.1803398875,\n",
       " 439663.2249721603,\n",
       " 457273.2694276696,\n",
       " 475347.31370849896,\n",
       " 493891.3578166916,\n",
       " 512911.401754251,\n",
       " 532413.4455231422,\n",
       " 552403.4891252931,\n",
       " 572887.5325625946,\n",
       " 593871.5758369028,\n",
       " 615361.6189500386,\n",
       " 637363.6619037897,\n",
       " 659883.7046999107,\n",
       " 682927.7473401244,\n",
       " 706501.7898261226,\n",
       " 730611.8321595662,\n",
       " 755263.8743420871,\n",
       " 780463.9163752878,\n",
       " 806217.9582607431,\n",
       " 832532.0,\n",
       " 859412.0415945788,\n",
       " 886864.0830459736,\n",
       " 914894.124355653,\n",
       " 943508.1655250606,\n",
       " 972712.2065556158,\n",
       " 1002512.2474487139]"
      ]
     },
     "execution_count": 57,
     "metadata": {},
     "output_type": "execute_result"
    }
   ],
   "source": [
    "list(map2)"
   ]
  },
  {
   "cell_type": "code",
   "execution_count": 62,
   "metadata": {},
   "outputs": [],
   "source": [
    "map3 = map(triple_bias, range(51),range(51,101),range(101,151))"
   ]
  },
  {
   "cell_type": "code",
   "execution_count": 63,
   "metadata": {},
   "outputs": [
    {
     "data": {
      "text/plain": [
       "[-50,\n",
       " -47,\n",
       " -44,\n",
       " -41,\n",
       " -38,\n",
       " -35,\n",
       " -32,\n",
       " -29,\n",
       " -26,\n",
       " -23,\n",
       " -20,\n",
       " -17,\n",
       " -14,\n",
       " -11,\n",
       " -8,\n",
       " -5,\n",
       " -2,\n",
       " 1,\n",
       " 4,\n",
       " 7,\n",
       " 10,\n",
       " 13,\n",
       " 16,\n",
       " 19,\n",
       " 22,\n",
       " 25,\n",
       " 28,\n",
       " 31,\n",
       " 34,\n",
       " 37,\n",
       " 40,\n",
       " 43,\n",
       " 46,\n",
       " 49,\n",
       " 52,\n",
       " 55,\n",
       " 58,\n",
       " 61,\n",
       " 64,\n",
       " 67,\n",
       " 70,\n",
       " 73,\n",
       " 76,\n",
       " 79,\n",
       " 82,\n",
       " 85,\n",
       " 88,\n",
       " 91,\n",
       " 94,\n",
       " 97]"
      ]
     },
     "execution_count": 63,
     "metadata": {},
     "output_type": "execute_result"
    }
   ],
   "source": [
    "list(map3)"
   ]
  },
  {
   "cell_type": "code",
   "execution_count": 69,
   "metadata": {},
   "outputs": [],
   "source": [
    "ad = lambda z : z* 32/7"
   ]
  },
  {
   "cell_type": "code",
   "execution_count": 70,
   "metadata": {},
   "outputs": [
    {
     "data": {
      "text/plain": [
       "228.57142857142858"
      ]
     },
     "execution_count": 70,
     "metadata": {},
     "output_type": "execute_result"
    }
   ],
   "source": [
    "ad(50)"
   ]
  },
  {
   "cell_type": "code",
   "execution_count": null,
   "metadata": {},
   "outputs": [],
   "source": []
  }
 ],
 "metadata": {
  "kernelspec": {
   "display_name": "Python 3",
   "language": "python",
   "name": "python3"
  },
  "language_info": {
   "codemirror_mode": {
    "name": "ipython",
    "version": 3
   },
   "file_extension": ".py",
   "mimetype": "text/x-python",
   "name": "python",
   "nbconvert_exporter": "python",
   "pygments_lexer": "ipython3",
   "version": "3.7.6"
  }
 },
 "nbformat": 4,
 "nbformat_minor": 4
}
