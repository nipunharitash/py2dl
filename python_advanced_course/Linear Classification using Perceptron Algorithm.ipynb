{
 "cells": [
  {
   "cell_type": "code",
   "execution_count": 6,
   "metadata": {},
   "outputs": [],
   "source": [
    "from matplotlib import pyplot as plt\n",
    "import random\n"
   ]
  },
  {
   "cell_type": "code",
   "execution_count": 13,
   "metadata": {},
   "outputs": [
    {
     "data": {
      "text/plain": [
       "Text(0, 0.5, 'y')"
      ]
     },
     "execution_count": 13,
     "metadata": {},
     "output_type": "execute_result"
    },
    {
     "data": {
      "image/png": "[encoded data removed]",
      "text/plain": [
       "<Figure size 432x288 with 1 Axes>"
      ]
     },
     "metadata": {
      "needs_background": "light"
     },
     "output_type": "display_data"
    }
   ],
   "source": [
    "#Creating data points with random x and y values from a range of intergers from -10 to 10\n",
    "x = []\n",
    "for i in range(10):\n",
    "    x.append(random.randint(-10,10))\n",
    "    \n",
    "\n",
    "y = []\n",
    "for i in range(10):\n",
    "    y.append(random.randint(-10,10))\n",
    "    \n",
    "data_points = list(zip(x,y))\n",
    "plt.scatter(x,y)\n",
    "plt.xlabel(\"x\")\n",
    "plt.ylabel(\"y\")"
   ]
  },
  {
   "cell_type": "code",
   "execution_count": 14,
   "metadata": {
    "scrolled": true
   },
   "outputs": [
    {
     "data": {
      "text/plain": [
       "[(3, 6),\n",
       " (-1, 1),\n",
       " (-6, -1),\n",
       " (-4, -10),\n",
       " (-3, 9),\n",
       " (0, -7),\n",
       " (8, 10),\n",
       " (-9, -10),\n",
       " (4, -1),\n",
       " (-6, 6)]"
      ]
     },
     "execution_count": 14,
     "metadata": {},
     "output_type": "execute_result"
    }
   ],
   "source": [
    "data_points"
   ]
  },
  {
   "cell_type": "code",
   "execution_count": 17,
   "metadata": {},
   "outputs": [],
   "source": [
    "# lets assign weight of .7 to x and .5 to y \n",
    "# output of perceptron algorithm will be z = .7 * x + .5 * y\n",
    "# if z > 0 it is classified as 1\n",
    "# if z < 0 it is classified as 0\n",
    "data_points_z=[]\n",
    "for j,k in zip(x,y):\n",
    "    z = (.7 * j) + (.5 * k)\n",
    "    data_points_z.append(z)"
   ]
  },
  {
   "cell_type": "code",
   "execution_count": 18,
   "metadata": {},
   "outputs": [
    {
     "data": {
      "text/plain": [
       "[5.1,\n",
       " -0.19999999999999996,\n",
       " -4.699999999999999,\n",
       " -7.8,\n",
       " 2.4000000000000004,\n",
       " -3.5,\n",
       " 10.6,\n",
       " -11.3,\n",
       " 2.3,\n",
       " -1.1999999999999993]"
      ]
     },
     "execution_count": 18,
     "metadata": {},
     "output_type": "execute_result"
    }
   ],
   "source": [
    "data_points_z"
   ]
  },
  {
   "cell_type": "code",
   "execution_count": 19,
   "metadata": {},
   "outputs": [
    {
     "data": {
      "text/plain": [
       "[1, 0, 0, 0, 1, 0, 1, 0, 1, 0]"
      ]
     },
     "execution_count": 19,
     "metadata": {},
     "output_type": "execute_result"
    }
   ],
   "source": [
    "data_points_classification_list=[]\n",
    "for item in data_points_z:\n",
    "    if item>0:\n",
    "        data_points_classification_list.append(1)\n",
    "    else:\n",
    "        data_points_classification_list.append(0)\n",
    "        \n",
    "data_points_classification_list"
   ]
  },
  {
   "cell_type": "code",
   "execution_count": null,
   "metadata": {},
   "outputs": [],
   "source": []
  }
 ],
 "metadata": {
  "kernelspec": {
   "display_name": "Python 3",
   "language": "python",
   "name": "python3"
  },
  "language_info": {
   "codemirror_mode": {
    "name": "ipython",
    "version": 3
   },
   "file_extension": ".py",
   "mimetype": "text/x-python",
   "name": "python",
   "nbconvert_exporter": "python",
   "pygments_lexer": "ipython3",
   "version": "3.7.6"
  }
 },
 "nbformat": 4,
 "nbformat_minor": 4
}
