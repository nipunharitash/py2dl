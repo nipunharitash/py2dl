{
 "cells": [
  {
   "cell_type": "code",
   "execution_count": 10,
   "metadata": {},
   "outputs": [],
   "source": [
    "def simple_interest(principal,time,rate=8):\n",
    "    si=(principal*rate*time)/100\n",
    "    print(f'You will receive Rs {principal+si} amount at maturity after {time} years at an annual rate of interest @{rate}%')\n",
    "    return si"
   ]
  },
  {
   "cell_type": "code",
   "execution_count": 11,
   "metadata": {},
   "outputs": [
    {
     "name": "stdout",
     "output_type": "stream",
     "text": [
      "You will receive Rs 700000.0 amount at maturity after 5 years at an annual rate of interest @8%\n"
     ]
    },
    {
     "data": {
      "text/plain": [
       "200000.0"
      ]
     },
     "execution_count": 11,
     "metadata": {},
     "output_type": "execute_result"
    }
   ],
   "source": [
    "simple_interest(principal=500000,time=5)"
   ]
  },
  {
   "cell_type": "code",
   "execution_count": 12,
   "metadata": {},
   "outputs": [
    {
     "name": "stdout",
     "output_type": "stream",
     "text": [
      "You will receive Rs 675000.0 amount at maturity after 5 years at an annual rate of interest @7%\n"
     ]
    },
    {
     "data": {
      "text/plain": [
       "175000.0"
      ]
     },
     "execution_count": 12,
     "metadata": {},
     "output_type": "execute_result"
    }
   ],
   "source": [
    "simple_interest(principal=500000,rate=7,time=5)"
   ]
  },
  {
   "cell_type": "code",
   "execution_count": 13,
   "metadata": {},
   "outputs": [
    {
     "name": "stdout",
     "output_type": "stream",
     "text": [
      "You will receive Rs 204000.0 amount at maturity after 2 years at an annual rate of interest @1%\n"
     ]
    },
    {
     "data": {
      "text/plain": [
       "4000.0"
      ]
     },
     "execution_count": 13,
     "metadata": {},
     "output_type": "execute_result"
    }
   ],
   "source": [
    "simple_interest(200000,2,1)"
   ]
  },
  {
   "cell_type": "code",
   "execution_count": 15,
   "metadata": {},
   "outputs": [
    {
     "name": "stdout",
     "output_type": "stream",
     "text": [
      "1 x Bread\n",
      "2 x Milk\n",
      "1 x Chocolate\n",
      "1 x Butter\n",
      "1 x Coffee\n"
     ]
    }
   ],
   "source": [
    "#illogcal\n",
    "shopping_list = {\n",
    "    \"Bread\": 1,\n",
    "    \"Milk\": 2,\n",
    "    \"Chocolate\": 1,\n",
    "    \"Butter\": 1,\n",
    "    \"Coffee\": 1,\n",
    "}\n",
    "\n",
    "def show_list():\n",
    "    for item_name, quantity in shopping_list.items():\n",
    "        print(quantity,\"x\", item_name)\n",
    "\n",
    "show_list()"
   ]
  },
  {
   "cell_type": "code",
   "execution_count": 16,
   "metadata": {},
   "outputs": [],
   "source": [
    "def show_list(dicti):\n",
    "    for item_name, quantity in dicti.items():\n",
    "        print(quantity,\"x\", item_name)\n"
   ]
  },
  {
   "cell_type": "code",
   "execution_count": 17,
   "metadata": {},
   "outputs": [
    {
     "name": "stdout",
     "output_type": "stream",
     "text": [
      "one x 1\n",
      "two x 2\n"
     ]
    }
   ],
   "source": [
    "show_list({1:'one',2:'two'})"
   ]
  },
  {
   "cell_type": "code",
   "execution_count": 18,
   "metadata": {},
   "outputs": [],
   "source": [
    "def list2tuple(listi):\n",
    "    print(\"Your tuple is :\",tuple(listi))"
   ]
  },
  {
   "cell_type": "code",
   "execution_count": 19,
   "metadata": {},
   "outputs": [
    {
     "name": "stdout",
     "output_type": "stream",
     "text": [
      "Your tuple is : (2, 3, 4, 5, 6)\n"
     ]
    }
   ],
   "source": [
    "list2tuple([2,3,4,5,6])"
   ]
  },
  {
   "cell_type": "code",
   "execution_count": 39,
   "metadata": {},
   "outputs": [],
   "source": [
    "VP=[]\n",
    "AVP=[]\n",
    "TechLead =[]\n",
    "def salary(name,salary):\n",
    "    if salary>300000:\n",
    "        VP.append((name,salary))\n",
    "    elif (salary>200000 & salary<300000):\n",
    "        AVP.append((name,salary))\n",
    "    elif (salary>100001 & salary<200000):\n",
    "        TechLead.append((name,salary))\n",
    "    else:\n",
    "        print(\"You are a nobody\")\n"
   ]
  },
  {
   "cell_type": "code",
   "execution_count": 40,
   "metadata": {},
   "outputs": [],
   "source": [
    "salary('Jesus',550000)"
   ]
  },
  {
   "cell_type": "code",
   "execution_count": 41,
   "metadata": {},
   "outputs": [],
   "source": [
    "salary('Yeshua',100000)"
   ]
  },
  {
   "cell_type": "code",
   "execution_count": 42,
   "metadata": {},
   "outputs": [],
   "source": [
    "salary('Bajrang',250000)"
   ]
  },
  {
   "cell_type": "code",
   "execution_count": 43,
   "metadata": {},
   "outputs": [],
   "source": [
    "salary('Shivji',600000)"
   ]
  },
  {
   "cell_type": "code",
   "execution_count": 47,
   "metadata": {},
   "outputs": [],
   "source": [
    "salary('Nobody',50000)"
   ]
  },
  {
   "cell_type": "code",
   "execution_count": 48,
   "metadata": {},
   "outputs": [],
   "source": [
    "employees={'Yoseph':800000,\n",
    "           'Fatima':200000,\n",
    "           'Domesa':380000,\n",
    "           'Huresa':100000\n",
    "}"
   ]
  },
  {
   "cell_type": "code",
   "execution_count": 51,
   "metadata": {},
   "outputs": [],
   "source": [
    "for k,v in employees.items():\n",
    "    salary(k,v)"
   ]
  },
  {
   "cell_type": "code",
   "execution_count": 52,
   "metadata": {},
   "outputs": [
    {
     "data": {
      "text/plain": [
       "[('Jesus', 550000), ('Shivji', 600000), ('Yoseph', 800000), ('Domesa', 380000)]"
      ]
     },
     "execution_count": 52,
     "metadata": {},
     "output_type": "execute_result"
    }
   ],
   "source": [
    "VP"
   ]
  },
  {
   "cell_type": "code",
   "execution_count": 53,
   "metadata": {},
   "outputs": [
    {
     "data": {
      "text/plain": [
       "[('Yeshua', 100000),\n",
       " ('Bajrang', 250000),\n",
       " ('Nobody', 50000),\n",
       " ('Huresa', 100000)]"
      ]
     },
     "execution_count": 53,
     "metadata": {},
     "output_type": "execute_result"
    }
   ],
   "source": [
    "AVP"
   ]
  },
  {
   "cell_type": "code",
   "execution_count": 54,
   "metadata": {},
   "outputs": [
    {
     "data": {
      "text/plain": [
       "[('Fatima', 200000)]"
      ]
     },
     "execution_count": 54,
     "metadata": {},
     "output_type": "execute_result"
    }
   ],
   "source": [
    "TechLead"
   ]
  },
  {
   "cell_type": "code",
   "execution_count": null,
   "metadata": {},
   "outputs": [],
   "source": []
  }
 ],
 "metadata": {
  "kernelspec": {
   "display_name": "Python 3",
   "language": "python",
   "name": "python3"
  },
  "language_info": {
   "codemirror_mode": {
    "name": "ipython",
    "version": 3
   },
   "file_extension": ".py",
   "mimetype": "text/x-python",
   "name": "python",
   "nbconvert_exporter": "python",
   "pygments_lexer": "ipython3",
   "version": "3.7.6"
  }
 },
 "nbformat": 4,
 "nbformat_minor": 4
}
