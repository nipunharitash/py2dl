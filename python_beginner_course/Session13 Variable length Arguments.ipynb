{
 "cells": [
  {
   "cell_type": "code",
   "execution_count": 42,
   "metadata": {},
   "outputs": [],
   "source": [
    "#variable length argument definition\n",
    "\n",
    "def sumall(*x):\n",
    "    s = 0\n",
    "    for item in x:\n",
    "        s = s+item\n",
    "    return s"
   ]
  },
  {
   "cell_type": "code",
   "execution_count": 43,
   "metadata": {},
   "outputs": [
    {
     "data": {
      "text/plain": [
       "192"
      ]
     },
     "execution_count": 43,
     "metadata": {},
     "output_type": "execute_result"
    }
   ],
   "source": [
    "sumall(2,5,77,65,43)"
   ]
  },
  {
   "cell_type": "code",
   "execution_count": 53,
   "metadata": {},
   "outputs": [],
   "source": [
    "def myfnc(**y):\n",
    "    print(\"His last name is \" + y['lname'] + y['age'])\n",
    "    "
   ]
  },
  {
   "cell_type": "code",
   "execution_count": 54,
   "metadata": {},
   "outputs": [
    {
     "name": "stdout",
     "output_type": "stream",
     "text": [
      "His last name is christo20\n"
     ]
    }
   ],
   "source": [
    "myfnc(lname = 'christo',age='20')"
   ]
  },
  {
   "cell_type": "code",
   "execution_count": 40,
   "metadata": {},
   "outputs": [
    {
     "name": "stdout",
     "output_type": "stream",
     "text": [
      "mister isnt palindreome\n",
      "mister  is palindrome\n",
      "mister isnt palindreome\n",
      "mister  is palindrome\n",
      "mister isnt palindreome\n",
      "mister  is palindrome\n"
     ]
    }
   ],
   "source": [
    "a = 'mister'\n",
    "l=len(a)\n",
    "i = 0\n",
    "j = l-1\n",
    "for i in range(l//2):\n",
    "    if a[i]==a[l-1]:\n",
    "        i =i+1\n",
    "        j =j-1\n",
    "    else:\n",
    "        print(a,\"isnt palindreome\")\n",
    "\n"
   ]
  },
  {
   "cell_type": "code",
   "execution_count": 36,
   "metadata": {},
   "outputs": [
    {
     "data": {
      "text/plain": [
       "8"
      ]
     },
     "execution_count": 36,
     "metadata": {},
     "output_type": "execute_result"
    }
   ],
   "source": [
    "l"
   ]
  },
  {
   "cell_type": "code",
   "execution_count": null,
   "metadata": {},
   "outputs": [],
   "source": []
  }
 ],
 "metadata": {
  "kernelspec": {
   "display_name": "Python 3",
   "language": "python",
   "name": "python3"
  },
  "language_info": {
   "codemirror_mode": {
    "name": "ipython",
    "version": 3
   },
   "file_extension": ".py",
   "mimetype": "text/x-python",
   "name": "python",
   "nbconvert_exporter": "python",
   "pygments_lexer": "ipython3",
   "version": "3.7.6"
  }
 },
 "nbformat": 4,
 "nbformat_minor": 4
}
