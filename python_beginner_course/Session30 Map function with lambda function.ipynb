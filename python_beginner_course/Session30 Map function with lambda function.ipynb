{
 "cells": [
  {
   "cell_type": "code",
   "execution_count": 1,
   "metadata": {},
   "outputs": [],
   "source": [
    "#map1=map(function,iterator1,iterator2)\n",
    "\n",
    "def triple(a):\n",
    "    return 3*a\n",
    "\n",
    "map3 = map(triple,range(10))"
   ]
  },
  {
   "cell_type": "code",
   "execution_count": 2,
   "metadata": {},
   "outputs": [
    {
     "data": {
      "text/plain": [
       "[0, 3, 6, 9, 12, 15, 18, 21, 24, 27]"
      ]
     },
     "execution_count": 2,
     "metadata": {},
     "output_type": "execute_result"
    }
   ],
   "source": [
    "list(map3)"
   ]
  },
  {
   "cell_type": "code",
   "execution_count": 3,
   "metadata": {},
   "outputs": [],
   "source": [
    "map4 = map(lambda a: 3*a, range(20))"
   ]
  },
  {
   "cell_type": "code",
   "execution_count": 4,
   "metadata": {},
   "outputs": [
    {
     "data": {
      "text/plain": [
       "<map at 0x10a80dc10>"
      ]
     },
     "execution_count": 4,
     "metadata": {},
     "output_type": "execute_result"
    }
   ],
   "source": [
    "map4"
   ]
  },
  {
   "cell_type": "code",
   "execution_count": 5,
   "metadata": {},
   "outputs": [
    {
     "data": {
      "text/plain": [
       "[0, 3, 6, 9, 12, 15, 18, 21, 24, 27, 30, 33, 36, 39, 42, 45, 48, 51, 54, 57]"
      ]
     },
     "execution_count": 5,
     "metadata": {},
     "output_type": "execute_result"
    }
   ],
   "source": [
    "list(map4)"
   ]
  },
  {
   "cell_type": "code",
   "execution_count": 6,
   "metadata": {},
   "outputs": [],
   "source": [
    "treeple =lambda a: 3*a # lambda variable(s): expression (limited mathematical ) ------ returns you function"
   ]
  },
  {
   "cell_type": "code",
   "execution_count": 10,
   "metadata": {},
   "outputs": [
    {
     "data": {
      "text/plain": [
       "function"
      ]
     },
     "execution_count": 10,
     "metadata": {},
     "output_type": "execute_result"
    }
   ],
   "source": [
    "type(treeple)"
   ]
  },
  {
   "cell_type": "code",
   "execution_count": 13,
   "metadata": {},
   "outputs": [],
   "source": [
    "import random\n",
    "x = [1,2,3,4,5,6,7,8,9]\n",
    "y =[]\n",
    "for i in range(9):\n",
    "    y.append(random.randint(1,9))"
   ]
  },
  {
   "cell_type": "code",
   "execution_count": 15,
   "metadata": {},
   "outputs": [],
   "source": [
    "nonnegative=lambda x,y : x-y if x>y else y-x"
   ]
  },
  {
   "cell_type": "code",
   "execution_count": 17,
   "metadata": {},
   "outputs": [
    {
     "data": {
      "text/plain": [
       "2"
      ]
     },
     "execution_count": 17,
     "metadata": {},
     "output_type": "execute_result"
    }
   ],
   "source": [
    "nonnegative(5,3)"
   ]
  },
  {
   "cell_type": "code",
   "execution_count": 20,
   "metadata": {},
   "outputs": [
    {
     "data": {
      "text/plain": [
       "[1, 2, 3, 4, 5, 6, 7, 8, 9]"
      ]
     },
     "execution_count": 20,
     "metadata": {},
     "output_type": "execute_result"
    }
   ],
   "source": [
    "x"
   ]
  },
  {
   "cell_type": "code",
   "execution_count": 14,
   "metadata": {},
   "outputs": [
    {
     "data": {
      "text/plain": [
       "[4, 2, 3, 4, 9, 2, 5, 4, 5]"
      ]
     },
     "execution_count": 14,
     "metadata": {},
     "output_type": "execute_result"
    }
   ],
   "source": [
    "y"
   ]
  },
  {
   "cell_type": "code",
   "execution_count": 18,
   "metadata": {},
   "outputs": [],
   "source": [
    "nonnegalist = map(lambda r,s : r-s if r>s else s-r, x,y )"
   ]
  },
  {
   "cell_type": "code",
   "execution_count": 19,
   "metadata": {},
   "outputs": [
    {
     "data": {
      "text/plain": [
       "[3, 0, 0, 0, 4, 4, 2, 4, 4]"
      ]
     },
     "execution_count": 19,
     "metadata": {},
     "output_type": "execute_result"
    }
   ],
   "source": [
    "list(nonnegalist)"
   ]
  },
  {
   "cell_type": "code",
   "execution_count": 22,
   "metadata": {},
   "outputs": [],
   "source": [
    "#f1=filter(function,iterator)"
   ]
  },
  {
   "cell_type": "code",
   "execution_count": 28,
   "metadata": {},
   "outputs": [],
   "source": [
    "age = [23,18,16,11,19,34,44,50,6]\n",
    "\n",
    "def age_filter(a):\n",
    "    if a>=18:\n",
    "        return True\n",
    "    else:\n",
    "        return False"
   ]
  },
  {
   "cell_type": "code",
   "execution_count": 29,
   "metadata": {},
   "outputs": [
    {
     "data": {
      "text/plain": [
       "False"
      ]
     },
     "execution_count": 29,
     "metadata": {},
     "output_type": "execute_result"
    }
   ],
   "source": [
    "age_filter(3)"
   ]
  },
  {
   "cell_type": "code",
   "execution_count": 30,
   "metadata": {},
   "outputs": [],
   "source": [
    "valid_audience = filter(age_filter,age)"
   ]
  },
  {
   "cell_type": "code",
   "execution_count": 31,
   "metadata": {},
   "outputs": [
    {
     "data": {
      "text/plain": [
       "[23, 18, 19, 34, 44, 50]"
      ]
     },
     "execution_count": 31,
     "metadata": {},
     "output_type": "execute_result"
    }
   ],
   "source": [
    "list(valid_audience)"
   ]
  },
  {
   "cell_type": "code",
   "execution_count": 32,
   "metadata": {},
   "outputs": [],
   "source": [
    "z =[]\n",
    "for i in range(100):\n",
    "    z.append(random.randint(1,200))"
   ]
  },
  {
   "cell_type": "code",
   "execution_count": 33,
   "metadata": {},
   "outputs": [
    {
     "data": {
      "text/plain": [
       "[62,\n",
       " 93,\n",
       " 8,\n",
       " 24,\n",
       " 118,\n",
       " 156,\n",
       " 59,\n",
       " 183,\n",
       " 190,\n",
       " 97,\n",
       " 187,\n",
       " 32,\n",
       " 39,\n",
       " 123,\n",
       " 128,\n",
       " 165,\n",
       " 65,\n",
       " 188,\n",
       " 58,\n",
       " 163,\n",
       " 185,\n",
       " 194,\n",
       " 197,\n",
       " 147,\n",
       " 81,\n",
       " 184,\n",
       " 190,\n",
       " 74,\n",
       " 181,\n",
       " 40,\n",
       " 88,\n",
       " 54,\n",
       " 187,\n",
       " 15,\n",
       " 158,\n",
       " 116,\n",
       " 73,\n",
       " 74,\n",
       " 76,\n",
       " 88,\n",
       " 122,\n",
       " 168,\n",
       " 135,\n",
       " 78,\n",
       " 94,\n",
       " 31,\n",
       " 92,\n",
       " 132,\n",
       " 174,\n",
       " 186,\n",
       " 76,\n",
       " 63,\n",
       " 63,\n",
       " 23,\n",
       " 78,\n",
       " 99,\n",
       " 57,\n",
       " 152,\n",
       " 128,\n",
       " 162,\n",
       " 28,\n",
       " 77,\n",
       " 139,\n",
       " 63,\n",
       " 158,\n",
       " 79,\n",
       " 187,\n",
       " 32,\n",
       " 28,\n",
       " 166,\n",
       " 17,\n",
       " 67,\n",
       " 109,\n",
       " 6,\n",
       " 101,\n",
       " 178,\n",
       " 81,\n",
       " 163,\n",
       " 26,\n",
       " 92,\n",
       " 76,\n",
       " 113,\n",
       " 47,\n",
       " 154,\n",
       " 176,\n",
       " 62,\n",
       " 140,\n",
       " 130,\n",
       " 7,\n",
       " 48,\n",
       " 33,\n",
       " 179,\n",
       " 198,\n",
       " 114,\n",
       " 93,\n",
       " 187,\n",
       " 130,\n",
       " 181,\n",
       " 174,\n",
       " 181]"
      ]
     },
     "execution_count": 33,
     "metadata": {},
     "output_type": "execute_result"
    }
   ],
   "source": [
    "z"
   ]
  },
  {
   "cell_type": "code",
   "execution_count": 81,
   "metadata": {},
   "outputs": [],
   "source": [
    "evendivededby2=map(lambda x:int(x/2), filter(lambda y : True if y%2 ==0 else False, z))"
   ]
  },
  {
   "cell_type": "code",
   "execution_count": 82,
   "metadata": {},
   "outputs": [
    {
     "data": {
      "text/plain": [
       "<map at 0x10a937710>"
      ]
     },
     "execution_count": 82,
     "metadata": {},
     "output_type": "execute_result"
    }
   ],
   "source": [
    "evendivededby2"
   ]
  },
  {
   "cell_type": "code",
   "execution_count": 84,
   "metadata": {},
   "outputs": [
    {
     "name": "stdout",
     "output_type": "stream",
     "text": [
      "[]\n"
     ]
    }
   ],
   "source": [
    "mylist=list(evendivededby2)\n",
    "print(mylist)"
   ]
  },
  {
   "cell_type": "code",
   "execution_count": null,
   "metadata": {},
   "outputs": [],
   "source": []
  }
 ],
 "metadata": {
  "kernelspec": {
   "display_name": "Python 3",
   "language": "python",
   "name": "python3"
  },
  "language_info": {
   "codemirror_mode": {
    "name": "ipython",
    "version": 3
   },
   "file_extension": ".py",
   "mimetype": "text/x-python",
   "name": "python",
   "nbconvert_exporter": "python",
   "pygments_lexer": "ipython3",
   "version": "3.7.6"
  }
 },
 "nbformat": 4,
 "nbformat_minor": 4
}
