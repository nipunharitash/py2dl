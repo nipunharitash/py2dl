{
 "cells": [
  {
   "cell_type": "code",
   "execution_count": 1,
   "metadata": {},
   "outputs": [],
   "source": [
    "booknames = ['Alchemist','Frida','Pyhiscs with Einstien']\n",
    "bookpages = [200,149,500]\n",
    "bookcategory =['Fiction','Fiction','Study']\n"
   ]
  },
  {
   "cell_type": "code",
   "execution_count": 3,
   "metadata": {},
   "outputs": [
    {
     "data": {
      "text/plain": [
       "['abc', 'def', 'ghi', 'jkl', 'sdf']"
      ]
     },
     "execution_count": 3,
     "metadata": {},
     "output_type": "execute_result"
    }
   ],
   "source": [
    "import pandas as pd\n",
    "df = pd.read_csv(\"books.csv\")\n",
    "df\n",
    "bname = list(df.books)\n",
    "bname"
   ]
  },
  {
   "cell_type": "code",
   "execution_count": 2,
   "metadata": {},
   "outputs": [
    {
     "data": {
      "text/plain": [
       "3"
      ]
     },
     "execution_count": 2,
     "metadata": {},
     "output_type": "execute_result"
    }
   ],
   "source": [
    "len(booknames)"
   ]
  },
  {
   "cell_type": "code",
   "execution_count": 10,
   "metadata": {},
   "outputs": [
    {
     "name": "stdout",
     "output_type": "stream",
     "text": [
      "You will finish the book in  16.666666666666668 seconds\n"
     ]
    },
    {
     "data": {
      "text/plain": [
       "'Alchemist'"
      ]
     },
     "execution_count": 10,
     "metadata": {},
     "output_type": "execute_result"
    }
   ],
   "source": [
    "class Library:\n",
    "\n",
    "    def __init__(self,name,size,category):\n",
    "        self.name = name\n",
    "        self.size = size\n",
    "        self.category = category\n",
    "\n",
    "    def read(self, speed):\n",
    "        t = self.size/speed\n",
    "        print(\"You will finish the book in \", t , \"seconds\")\n",
    "\n",
    "    def analyse(self,zoom):\n",
    "        t = self.size/zoom\n",
    "        print(\"Your map is scaled to 1: \", t , \"ratio \")\n",
    "\n",
    "\n",
    "\n",
    "booknames = ['Alchemist','Frida','Pyhiscs with Einstien']\n",
    "bookpages = [200,149,500]\n",
    "bookcategory =['Fiction','Fiction','Study']\n",
    "kitab_objects=[]\n",
    "for i in range (len(booknames)):\n",
    "    kitab_objects.append(Library(booknames[i],bookpages[i],bookcategory[i]))\n",
    "\n",
    "kitab_objects\n",
    "len(kitab_objects)\n",
    "kitab_objects[2].read(30)\n",
    "kitab_objects[0].name"
   ]
  },
  {
   "cell_type": "code",
   "execution_count": null,
   "metadata": {},
   "outputs": [],
   "source": [
    " book1 = Library(\"\")"
   ]
  },
  {
   "cell_type": "code",
   "execution_count": 26,
   "metadata": {},
   "outputs": [
    {
     "name": "stdout",
     "output_type": "stream",
     "text": [
      "<class 'list'>\n",
      "You will finish the book in  250.0 seconds\n"
     ]
    }
   ],
   "source": [
    "\n",
    "print(type(kitab_objects))\n",
    "kitab_objects[2].read(2)\n"
   ]
  },
  {
   "cell_type": "code",
   "execution_count": 12,
   "metadata": {},
   "outputs": [
    {
     "data": {
      "text/plain": [
       "'A'"
      ]
     },
     "execution_count": 12,
     "metadata": {},
     "output_type": "execute_result"
    }
   ],
   "source": [
    "chr(65)"
   ]
  },
  {
   "cell_type": "code",
   "execution_count": 17,
   "metadata": {},
   "outputs": [
    {
     "name": "stdout",
     "output_type": "stream",
     "text": [
      "Akash 2\n",
      "Deependra 40\n",
      "Reaper 44\n"
     ]
    }
   ],
   "source": [
    "class geeks: \n",
    "    def __init__(self, name, roll): \n",
    "        self.name = name \n",
    "        self.roll = roll\n",
    "   \n",
    "# creating list       \n",
    "list = [] \n",
    "  \n",
    "# appending instances to list \n",
    "list.append( geeks('Akash', 2) )\n",
    "list.append( geeks('Deependra', 40) )\n",
    "list.append( geeks('Reaper', 44) )\n",
    "  \n",
    "for obj in list:\n",
    "    print( obj.name, obj.roll, sep =' ' )"
   ]
  },
  {
   "cell_type": "code",
   "execution_count": 18,
   "metadata": {},
   "outputs": [
    {
     "data": {
      "text/plain": [
       "[<__main__.geeks at 0x106604690>,\n",
       " <__main__.geeks at 0x106604e50>,\n",
       " <__main__.geeks at 0x106604f90>]"
      ]
     },
     "execution_count": 18,
     "metadata": {},
     "output_type": "execute_result"
    }
   ],
   "source": [
    "list"
   ]
  },
  {
   "cell_type": "code",
   "execution_count": 19,
   "metadata": {},
   "outputs": [
    {
     "name": "stdout",
     "output_type": "stream",
     "text": [
      "You will finish the book in  20.0 seconds\n",
      "You will finish the book in  14.9 seconds\n",
      "You will finish the book in  50.0 seconds\n"
     ]
    }
   ],
   "source": [
    "for r in kitab_objects:\n",
    "    r.read(10)"
   ]
  },
  {
   "cell_type": "code",
   "execution_count": 23,
   "metadata": {},
   "outputs": [
    {
     "data": {
      "text/plain": [
       "__main__.Library"
      ]
     },
     "execution_count": 23,
     "metadata": {},
     "output_type": "execute_result"
    }
   ],
   "source": [
    "type(chr(65))\n",
    "type(kitab_objects[0])"
   ]
  },
  {
   "cell_type": "code",
   "execution_count": 25,
   "metadata": {},
   "outputs": [
    {
     "ename": "TypeError",
     "evalue": "list indices must be integers or slices, not Library",
     "output_type": "error",
     "traceback": [
      "\u001b[0;31m---------------------------------------------------------------------------\u001b[0m",
      "\u001b[0;31mTypeError\u001b[0m                                 Traceback (most recent call last)",
      "\u001b[0;32m<ipython-input-25-8a36750f3ae0>\u001b[0m in \u001b[0;36m<module>\u001b[0;34m\u001b[0m\n\u001b[1;32m      1\u001b[0m \u001b[0mn\u001b[0m \u001b[0;34m=\u001b[0m \u001b[0;36m65\u001b[0m\u001b[0;34m\u001b[0m\u001b[0;34m\u001b[0m\u001b[0m\n\u001b[1;32m      2\u001b[0m \u001b[0;32mfor\u001b[0m \u001b[0mr\u001b[0m \u001b[0;32min\u001b[0m \u001b[0mkitab_objects\u001b[0m\u001b[0;34m:\u001b[0m\u001b[0;34m\u001b[0m\u001b[0;34m\u001b[0m\u001b[0m\n\u001b[0;32m----> 3\u001b[0;31m     \u001b[0mn\u001b[0m \u001b[0;34m=\u001b[0m \u001b[0mkitab_objects\u001b[0m\u001b[0;34m[\u001b[0m\u001b[0mr\u001b[0m\u001b[0;34m]\u001b[0m\u001b[0;34m\u001b[0m\u001b[0;34m\u001b[0m\u001b[0m\n\u001b[0m\u001b[1;32m      4\u001b[0m     \u001b[0mprint\u001b[0m\u001b[0;34m(\u001b[0m\u001b[0mkitab_objects\u001b[0m\u001b[0;34m[\u001b[0m\u001b[0mr\u001b[0m\u001b[0;34m]\u001b[0m\u001b[0;34m)\u001b[0m\u001b[0;34m\u001b[0m\u001b[0;34m\u001b[0m\u001b[0m\n",
      "\u001b[0;31mTypeError\u001b[0m: list indices must be integers or slices, not Library"
     ]
    }
   ],
   "source": [
    "n = 65\n",
    "for r in kitab_objects:\n",
    "    n = kitab_objects[r]\n",
    "    print(kitab_objects[r])"
   ]
  },
  {
   "cell_type": "code",
   "execution_count": null,
   "metadata": {},
   "outputs": [],
   "source": []
  }
 ],
 "metadata": {
  "kernelspec": {
   "display_name": "Python 3",
   "language": "python",
   "name": "python3"
  },
  "language_info": {
   "codemirror_mode": {
    "name": "ipython",
    "version": 3
   },
   "file_extension": ".py",
   "mimetype": "text/x-python",
   "name": "python",
   "nbconvert_exporter": "python",
   "pygments_lexer": "ipython3",
   "version": "3.7.6"
  }
 },
 "nbformat": 4,
 "nbformat_minor": 4
}
