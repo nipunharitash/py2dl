{
 "cells": [
  {
   "cell_type": "markdown",
   "metadata": {},
   "source": [
    "# Classical Example of for and if statement"
   ]
  },
  {
   "cell_type": "code",
   "execution_count": 2,
   "metadata": {},
   "outputs": [
    {
     "name": "stdout",
     "output_type": "stream",
     "text": [
      "Enter your thoughts:War is crime hate\n",
      "The sensored Text is : ***** is crime *****\n"
     ]
    }
   ],
   "source": [
    "text = input(\"Enter your thoughts:\")\n",
    "testtext = text.lower()\n",
    "forbid = ['war','gross','damn','rdx','hate']\n",
    "for i in forbid:\n",
    "    if i in testtext:\n",
    "        text1 = testtext.replace(i,\"*****\")\n",
    "        testtext=text1\n",
    "    \n",
    "print(\"The Censored Text is :\",text1)    "
   ]
  },
  {
   "cell_type": "code",
   "execution_count": 50,
   "metadata": {},
   "outputs": [],
   "source": [
    "#forbid.pop(0)\n",
    "forbid.append('damn')"
   ]
  },
  {
   "cell_type": "code",
   "execution_count": 51,
   "metadata": {},
   "outputs": [
    {
     "data": {
      "text/plain": [
       "['rdx', 'hate', 'war', 'gross', 'damn']"
      ]
     },
     "execution_count": 51,
     "metadata": {},
     "output_type": "execute_result"
    }
   ],
   "source": [
    "forbid"
   ]
  },
  {
   "cell_type": "code",
   "execution_count": 28,
   "metadata": {},
   "outputs": [],
   "source": [
    "#print(type(text))\n",
    "#print(text)"
   ]
  },
  {
   "cell_type": "code",
   "execution_count": 12,
   "metadata": {},
   "outputs": [],
   "source": [
    "#textlist = text.split()"
   ]
  },
  {
   "cell_type": "code",
   "execution_count": 29,
   "metadata": {},
   "outputs": [],
   "source": [
    "#type(textlist)"
   ]
  },
  {
   "cell_type": "code",
   "execution_count": 30,
   "metadata": {},
   "outputs": [],
   "source": [
    "#textlist[3:5]"
   ]
  },
  {
   "cell_type": "code",
   "execution_count": 31,
   "metadata": {},
   "outputs": [],
   "source": [
    "#textlist[-1::-1]"
   ]
  },
  {
   "cell_type": "code",
   "execution_count": 32,
   "metadata": {},
   "outputs": [],
   "source": [
    "#textlist\n",
    "#text.find('war')\n",
    "#text1 = text.replace('war','***')"
   ]
  },
  {
   "cell_type": "code",
   "execution_count": 33,
   "metadata": {},
   "outputs": [],
   "source": [
    "#text1"
   ]
  },
  {
   "cell_type": "code",
   "execution_count": 7,
   "metadata": {},
   "outputs": [
    {
     "data": {
      "text/plain": [
       "['This',\n",
       " 'first-of-its-kind',\n",
       " 'NFT',\n",
       " 'will',\n",
       " 'be',\n",
       " 'available',\n",
       " 'to',\n",
       " 'buy',\n",
       " 'on',\n",
       " 'our',\n",
       " 'marketplace',\n",
       " 'on',\n",
       " 'Tuesday,',\n",
       " '15th',\n",
       " 'March,',\n",
       " 'at',\n",
       " '3pm',\n",
       " 'GMT',\n",
       " 'in',\n",
       " '3',\n",
       " 'editions',\n",
       " '(Standard,',\n",
       " 'Special',\n",
       " 'and',\n",
       " 'Premium),',\n",
       " 'featuring',\n",
       " 'perks',\n",
       " 'including',\n",
       " 'the',\n",
       " 'full',\n",
       " 'animated',\n",
       " 'movie,',\n",
       " 'animated',\n",
       " 'album',\n",
       " 'cover,',\n",
       " 'and',\n",
       " 'an',\n",
       " 'exclusive',\n",
       " 'piece',\n",
       " 'of',\n",
       " 'art',\n",
       " 'by',\n",
       " 'legendary',\n",
       " 'visual',\n",
       " 'artist',\n",
       " 'Nick',\n",
       " 'Percival,',\n",
       " 'which',\n",
       " 'was',\n",
       " 'created',\n",
       " 'especially',\n",
       " 'for',\n",
       " 'this',\n",
       " 'project.']"
      ]
     },
     "execution_count": 7,
     "metadata": {},
     "output_type": "execute_result"
    }
   ],
   "source": []
  },
  {
   "cell_type": "code",
   "execution_count": 9,
   "metadata": {},
   "outputs": [
    {
     "name": "stdout",
     "output_type": "stream",
     "text": [
      "This first-of-its-kind NFT will be available to buy on our marketplace on Tuesday, 15th March, at 3pm GMT in 3 editions (Standard, Special and Premium), featuring perks including the full animated movie, animated album cover, and an exclusive piece of art by legendary visual artist Nick Percival, which was created especially for this project. \n"
     ]
    }
   ],
   "source": [
    "#convert string to list and back to string\n",
    "\n",
    "teststr = \"This first-of-its-kind NFT will be available to buy on our marketplace on Tuesday, 15th March, at 3pm GMT in 3 editions (Standard, Special and Premium), featuring perks including the full animated movie, animated album cover, and an exclusive piece of art by legendary visual artist Nick Percival, which was created especially for this project.\"\n",
    "teststrlist = teststr.split(\" \")\n",
    "teststrlist\n",
    "\n",
    "\n",
    "newstr =\"\"\n",
    "for i in teststrlist:\n",
    "    newstr+= i\n",
    "    newstr+= \" \"\n",
    "    \n",
    "    \n",
    "print(newstr)"
   ]
  },
  {
   "cell_type": "code",
   "execution_count": 13,
   "metadata": {},
   "outputs": [
    {
     "name": "stdout",
     "output_type": "stream",
     "text": [
      "Wow\n"
     ]
    }
   ],
   "source": [
    "a = 6\n",
    "b = 6\n",
    "c = 6\n",
    "if(a == b == c):\n",
    "    print(\"Wow\")\n",
    "    \n",
    "else:\n",
    "    print(\"Boo\")"
   ]
  },
  {
   "cell_type": "code",
   "execution_count": 16,
   "metadata": {},
   "outputs": [],
   "source": [
    "blog='''Hello\n",
    "      how r u\n",
    "      goodbye'''"
   ]
  },
  {
   "cell_type": "code",
   "execution_count": 17,
   "metadata": {},
   "outputs": [
    {
     "data": {
      "text/plain": [
       "'Hello\\n      how r u\\n      goodbye'"
      ]
     },
     "execution_count": 17,
     "metadata": {},
     "output_type": "execute_result"
    }
   ],
   "source": [
    "blog"
   ]
  },
  {
   "cell_type": "code",
   "execution_count": null,
   "metadata": {},
   "outputs": [],
   "source": []
  }
 ],
 "metadata": {
  "kernelspec": {
   "display_name": "Python 3",
   "language": "python",
   "name": "python3"
  },
  "language_info": {
   "codemirror_mode": {
    "name": "ipython",
    "version": 3
   },
   "file_extension": ".py",
   "mimetype": "text/x-python",
   "name": "python",
   "nbconvert_exporter": "python",
   "pygments_lexer": "ipython3",
   "version": "3.7.6"
  }
 },
 "nbformat": 4,
 "nbformat_minor": 4
}
