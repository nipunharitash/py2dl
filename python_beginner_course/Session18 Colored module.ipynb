{
 "cells": [
  {
   "cell_type": "code",
   "execution_count": 1,
   "metadata": {},
   "outputs": [],
   "source": [
    "class Stars():\n",
    "    def init(self):\n",
    "        pass\n",
    "    def square(self,rows,columns):\n",
    "        if rows==columns:\n",
    "            for row in range(rows):\n",
    "                for column in range(columns):\n",
    "                    print('*',end='')\n",
    "                print()\n",
    "        else:\n",
    "            print('Rows are not equal to columns')\n",
    "\n",
    "        "
   ]
  },
  {
   "cell_type": "code",
   "execution_count": 2,
   "metadata": {},
   "outputs": [],
   "source": [
    "star1=Stars()"
   ]
  },
  {
   "cell_type": "code",
   "execution_count": 3,
   "metadata": {},
   "outputs": [
    {
     "name": "stdout",
     "output_type": "stream",
     "text": [
      "Rows are not equal to columns\n"
     ]
    }
   ],
   "source": [
    "star1.square(5,6)"
   ]
  },
  {
   "cell_type": "code",
   "execution_count": 4,
   "metadata": {},
   "outputs": [],
   "source": [
    "a = \"Hellow Word\"\n",
    "b = [\"hi\",\"Namaste\",\"Arigato\"]\n"
   ]
  },
  {
   "cell_type": "code",
   "execution_count": 5,
   "metadata": {},
   "outputs": [
    {
     "data": {
      "text/plain": [
       "11"
      ]
     },
     "execution_count": 5,
     "metadata": {},
     "output_type": "execute_result"
    }
   ],
   "source": [
    "len(a)"
   ]
  },
  {
   "cell_type": "code",
   "execution_count": 6,
   "metadata": {},
   "outputs": [
    {
     "data": {
      "text/plain": [
       "3"
      ]
     },
     "execution_count": 6,
     "metadata": {},
     "output_type": "execute_result"
    }
   ],
   "source": [
    "len(b)"
   ]
  },
  {
   "cell_type": "code",
   "execution_count": 7,
   "metadata": {},
   "outputs": [
    {
     "name": "stdout",
     "output_type": "stream",
     "text": [
      "Collecting colored\n",
      "  Downloading colored-1.4.3.tar.gz (29 kB)\n",
      "Building wheels for collected packages: colored\n",
      "  Building wheel for colored (setup.py) ... \u001b[?25ldone\n",
      "\u001b[?25h  Created wheel for colored: filename=colored-1.4.3-py3-none-any.whl size=14323 sha256=a9307ff4cc4ff57e694219db3666dd3a0b24109d3acf3ca21d6240e2657a03da\n",
      "  Stored in directory: /home/nipun/.cache/pip/wheels/4a/f6/00/835e81851bc345428a253721c8bdad0062721dfb861bc6e752\n",
      "Successfully built colored\n",
      "Installing collected packages: colored\n",
      "Successfully installed colored-1.4.3\n"
     ]
    }
   ],
   "source": [
    "! pip install colored"
   ]
  },
  {
   "cell_type": "code",
   "execution_count": 8,
   "metadata": {},
   "outputs": [
    {
     "name": "stdout",
     "output_type": "stream",
     "text": [
      "Requirement already satisfied: termcolor in /home/nipun/anaconda3/lib/python3.7/site-packages (1.1.0)\r\n"
     ]
    }
   ],
   "source": [
    "! pip install termcolor "
   ]
  },
  {
   "cell_type": "code",
   "execution_count": 9,
   "metadata": {},
   "outputs": [
    {
     "name": "stdout",
     "output_type": "stream",
     "text": [
      "\u001b[7m\u001b[5m\u001b[4m\u001b[1m\u001b[46m\u001b[31mNamaste\u001b[0m\n"
     ]
    }
   ],
   "source": [
    "from termcolor import colored, cprint\n",
    "text = colored(\"Namaste\",'red','on_cyan',attrs=['bold','underline','blink','reverse'])\n",
    "print(text)"
   ]
  },
  {
   "cell_type": "code",
   "execution_count": 10,
   "metadata": {},
   "outputs": [
    {
     "name": "stdout",
     "output_type": "stream",
     "text": [
      "\u001b[7m\u001b[5m\u001b[4m\u001b[1m\u001b[42m\u001b[37mNamste\u001b[0m\n"
     ]
    }
   ],
   "source": [
    "text2 = colored(\"Namste\",color ='white',on_color=\"on_green\",attrs=['bold','underline','blink','reverse'])\n",
    "print(text2)"
   ]
  },
  {
   "cell_type": "code",
   "execution_count": 11,
   "metadata": {},
   "outputs": [
    {
     "name": "stdout",
     "output_type": "stream",
     "text": [
      "\u001b[34mGuitar is my life\u001b[0m\n"
     ]
    }
   ],
   "source": [
    "print(colored(\"Guitar is my life\",\"blue\"))"
   ]
  }
 ],
 "metadata": {
  "kernelspec": {
   "display_name": "Python 3",
   "language": "python",
   "name": "python3"
  },
  "language_info": {
   "codemirror_mode": {
    "name": "ipython",
    "version": 3
   },
   "file_extension": ".py",
   "mimetype": "text/x-python",
   "name": "python",
   "nbconvert_exporter": "python",
   "pygments_lexer": "ipython3",
   "version": "3.7.6"
  }
 },
 "nbformat": 4,
 "nbformat_minor": 4
}
