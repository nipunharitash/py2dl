{
 "cells": [
  {
   "cell_type": "markdown",
   "metadata": {},
   "source": [
    "# map() function returns a map object(which is an iterator) of the results after applying the given function \n",
    "to each item of a given iterable (list, tuple etc.)"
   ]
  },
  {
   "cell_type": "code",
   "execution_count": 11,
   "metadata": {},
   "outputs": [],
   "source": [
    "#define a function (linear equation with 2 variables a and b)\n",
    "def linear_equation_2(a,b):\n",
    "    res =[]\n",
    "    \n",
    "    res.append(a*2 + b*.01)\n",
    "        \n",
    "    return res\n",
    "    "
   ]
  },
  {
   "cell_type": "code",
   "execution_count": 12,
   "metadata": {},
   "outputs": [],
   "source": [
    "#define 2 lists of equal lengths containing variables a and b\n",
    "variable_a = [1,2,3,4,5]\n",
    "variable_b = [.2,.34,45,.11,.56]\n"
   ]
  },
  {
   "cell_type": "code",
   "execution_count": 13,
   "metadata": {},
   "outputs": [],
   "source": [
    "#apply map function by passing function and iterators (here the function and iterators are defined in above cells)\n",
    "map_linear_equation = map(linear_equation_2,variable_a,variable_b)  # map(function,iteraors1,iterator2)"
   ]
  },
  {
   "cell_type": "code",
   "execution_count": 14,
   "metadata": {},
   "outputs": [
    {
     "data": {
      "text/plain": [
       "[[2.002], [4.0034], [6.45], [8.0011], [10.0056]]"
      ]
     },
     "execution_count": 14,
     "metadata": {},
     "output_type": "execute_result"
    }
   ],
   "source": [
    "#to see the results of calculation of the linear equations\n",
    "list(map_linear_equation)\n"
   ]
  },
  {
   "cell_type": "code",
   "execution_count": 15,
   "metadata": {},
   "outputs": [],
   "source": [
    "# A more complicated scenario is to use iterators which is a list of lists\n",
    "variable_a_list = [[1,2,3,4,5],[1,2,3,3,5],[1,2,3,4,4]]\n",
    "variable_b_list = [[.2,.34,45,.11,.80],[.2,.34,45,.11,.56],[.2,.34,45,.12,.56]]\n",
    "def linear_equation_list(a,b):\n",
    "    res = []\n",
    "    for i in range(len(a)):\n",
    "        res.append(a[i]*2+ b[i]*8)\n",
    "    return res"
   ]
  },
  {
   "cell_type": "code",
   "execution_count": 16,
   "metadata": {},
   "outputs": [
    {
     "data": {
      "text/plain": [
       "[[3.6, 6.720000000000001, 366, 8.88, 16.4],\n",
       " [3.6, 6.720000000000001, 366, 6.88, 14.48],\n",
       " [3.6, 6.720000000000001, 366, 8.96, 12.48]]"
      ]
     },
     "execution_count": 16,
     "metadata": {},
     "output_type": "execute_result"
    }
   ],
   "source": [
    "linear_equation_list(variable_a_list,variable_b_list)\n",
    "list(map(linear_equation_list,variable_a_list,variable_b_list))"
   ]
  }
 ],
 "metadata": {
  "kernelspec": {
   "display_name": "Python 3",
   "language": "python",
   "name": "python3"
  },
  "language_info": {
   "codemirror_mode": {
    "name": "ipython",
    "version": 3
   },
   "file_extension": ".py",
   "mimetype": "text/x-python",
   "name": "python",
   "nbconvert_exporter": "python",
   "pygments_lexer": "ipython3",
   "version": "3.7.6"
  }
 },
 "nbformat": 4,
 "nbformat_minor": 4
}
