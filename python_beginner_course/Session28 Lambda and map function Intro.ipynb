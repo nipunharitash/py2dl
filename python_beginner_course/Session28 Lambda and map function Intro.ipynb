{
 "cells": [
  {
   "cell_type": "code",
   "execution_count": 3,
   "metadata": {},
   "outputs": [
    {
     "name": "stdout",
     "output_type": "stream",
     "text": [
      "3.0\n",
      "True\n"
     ]
    }
   ],
   "source": [
    "# Define function to calculate cube root\n",
    "# using def keyword\n",
    "  \n",
    "def calculate_cube_root(x):\n",
    "    return x**(1/3)\n",
    "  \n",
    "# Call the def function to calculate cube\n",
    "# root and print it\n",
    "print(calculate_cube_root(27))\n",
    "  \n",
    "# Define function to check if language is present in\n",
    "# language list using def keyword\n",
    "languages = ['Sanskrut', 'English', 'French', 'German']\n",
    "  \n",
    "def check_language(x):\n",
    "    if x in languages:\n",
    "        return True\n",
    "    return False\n",
    "  \n",
    "# Call the def function to check if keyword 'English'\n",
    "# is present in the languages list and print it\n",
    "print(check_language('English'))"
   ]
  },
  {
   "cell_type": "code",
   "execution_count": 4,
   "metadata": {},
   "outputs": [
    {
     "name": "stdout",
     "output_type": "stream",
     "text": [
      "3.0\n",
      "True\n"
     ]
    }
   ],
   "source": [
    "# Define function using lambda for cube root\n",
    "cube_root= lambda x: x**(1/3)\n",
    "  \n",
    "# Call the lambda function\n",
    "print(cube_root(27))\n",
    "  \n",
    "  \n",
    "languages = ['Sanskrut', 'English', 'French', 'German']\n",
    "  \n",
    "  \n",
    "# Define function using lambda\n",
    "l_check_language = lambda x: True if x in languages else False\n",
    "  \n",
    "# Call the lambda function\n",
    "print(l_check_language('Sanskrut'))"
   ]
  },
  {
   "cell_type": "code",
   "execution_count": 5,
   "metadata": {},
   "outputs": [
    {
     "name": "stdout",
     "output_type": "stream",
     "text": [
      "[16, 4, 169, 441, 25]\n"
     ]
    }
   ],
   "source": [
    "# Iterating With Python Lambdas\n",
    "  \n",
    "# list of numbers\n",
    "l1 = [4, 2, 13, 21, 5]\n",
    "  \n",
    "l2 = []\n",
    "  \n",
    "# run for loop to iterate over list\n",
    "for i in l1:\n",
    "      \n",
    "    # lambda function to make square \n",
    "    # of number\n",
    "    temp=lambda i:i**2\n",
    "  \n",
    "    # save in list2\n",
    "    l2.append(temp(i))\n",
    "  \n",
    "# print list\n",
    "print(l2)"
   ]
  },
  {
   "cell_type": "code",
   "execution_count": 6,
   "metadata": {},
   "outputs": [
    {
     "name": "stdout",
     "output_type": "stream",
     "text": [
      "[16, 4, 169, 441, 25]\n"
     ]
    }
   ],
   "source": [
    "# Iterating With Python Lambdas\n",
    "  \n",
    "# list of numbers\n",
    "l1 = [4, 2, 13, 21, 5]\n",
    "  \n",
    "# list of square of numbers\n",
    "# lambda function is used to iterate \n",
    "# over list l1\n",
    "l2 = list(map(lambda v: v ** 2, l1))\n",
    "  \n",
    "# print list\n",
    "print(l2)"
   ]
  },
  {
   "cell_type": "code",
   "execution_count": 7,
   "metadata": {},
   "outputs": [
    {
     "name": "stdout",
     "output_type": "stream",
     "text": [
      "[2, 4, 6, 8]\n"
     ]
    }
   ],
   "source": [
    "# Python program to demonstrate working\n",
    "# of map.\n",
    "  \n",
    "# Return double of n\n",
    "def addition(n):\n",
    "    return n + n\n",
    "  \n",
    "# We double all numbers using map()\n",
    "numbers = (1, 2, 3, 4)\n",
    "result = map(addition, numbers)\n",
    "print(list(result))"
   ]
  },
  {
   "cell_type": "code",
   "execution_count": 8,
   "metadata": {},
   "outputs": [
    {
     "name": "stdout",
     "output_type": "stream",
     "text": [
      "[2, 4, 6, 8]\n"
     ]
    }
   ],
   "source": [
    "# Double all numbers using map and lambda\n",
    "  \n",
    "numbers = (1, 2, 3, 4)\n",
    "result = map(lambda x: x + x, numbers)\n",
    "print(list(result))"
   ]
  },
  {
   "cell_type": "code",
   "execution_count": 9,
   "metadata": {},
   "outputs": [
    {
     "name": "stdout",
     "output_type": "stream",
     "text": [
      "[5, 7, 9]\n"
     ]
    }
   ],
   "source": [
    "# Add two lists using map and lambda\n",
    "  \n",
    "numbers1 = [1, 2, 3]\n",
    "numbers2 = [4, 5, 6]\n",
    "  \n",
    "result = map(lambda x, y: x + y, numbers1, numbers2)\n",
    "print(list(result))"
   ]
  },
  {
   "cell_type": "code",
   "execution_count": 10,
   "metadata": {},
   "outputs": [
    {
     "name": "stdout",
     "output_type": "stream",
     "text": [
      "[['s', 'a', 't'], ['b', 'a', 't'], ['c', 'a', 't'], ['m', 'a', 't']]\n"
     ]
    }
   ],
   "source": [
    "# List of strings\n",
    "l = ['sat', 'bat', 'cat', 'mat']\n",
    "  \n",
    "# map() can listify the list of strings individually\n",
    "test = list(map(list, l))\n",
    "print(test)"
   ]
  },
  {
   "cell_type": "code",
   "execution_count": null,
   "metadata": {},
   "outputs": [],
   "source": []
  }
 ],
 "metadata": {
  "kernelspec": {
   "display_name": "Python 3",
   "language": "python",
   "name": "python3"
  },
  "language_info": {
   "codemirror_mode": {
    "name": "ipython",
    "version": 3
   },
   "file_extension": ".py",
   "mimetype": "text/x-python",
   "name": "python",
   "nbconvert_exporter": "python",
   "pygments_lexer": "ipython3",
   "version": "3.7.6"
  }
 },
 "nbformat": 4,
 "nbformat_minor": 4
}
