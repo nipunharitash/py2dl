{
 "cells": [
  {
   "cell_type": "code",
   "execution_count": 2,
   "metadata": {},
   "outputs": [],
   "source": [
    "full_scale = ['C','C#','D','D#','E','F','F#','G','G#','A','A#','B']"
   ]
  },
  {
   "cell_type": "code",
   "execution_count": 3,
   "metadata": {},
   "outputs": [
    {
     "data": {
      "text/plain": [
       "['C', 'C#', 'D', 'D#', 'E', 'F', 'F#', 'G', 'G#', 'A', 'A#', 'B']"
      ]
     },
     "execution_count": 3,
     "metadata": {},
     "output_type": "execute_result"
    }
   ],
   "source": [
    "full_scale"
   ]
  },
  {
   "cell_type": "code",
   "execution_count": null,
   "metadata": {},
   "outputs": [],
   "source": [
    "#full_scale[9]"
   ]
  },
  {
   "cell_type": "code",
   "execution_count": 13,
   "metadata": {},
   "outputs": [
    {
     "name": "stdout",
     "output_type": "stream",
     "text": [
      "Enter note:g\n"
     ]
    }
   ],
   "source": [
    "note=input('Enter note:')\n",
    "enote = note.upper()\n",
    "stop = full_scale.index(enote)\n",
    "new_list=[]\n",
    "for item in range(0,stop):\n",
    "    new_list.append(full_scale[item])\n",
    "    \n",
    "new_list\n",
    "scalelist=[]\n",
    "for item in range(stop,len(full_scale)):\n",
    "    scalelist.append(full_scale[item])\n",
    "    \n",
    "f_l = scalelist + new_list\n",
    "major_scale = [f_l[0],f_l[2],f_l[4],f_l[5],f_l[7],f_l[9],f_l[11],f_l[0]]\n",
    "minor_scale = [f_l[0],f_l[2],f_l[3],f_l[5],f_l[7],f_l[9],f_l[11],f_l[0]]\n",
    "diminished_scale = [f_l[0],f_l[2],f_l[3],f_l[5],f_l[6],f_l[9],f_l[11],f_l[0]]\n",
    "augmented_scale = [f_l[0],f_l[2],f_l[4],f_l[5],f_l[8],f_l[9],f_l[11],f_l[0]]"
   ]
  },
  {
   "cell_type": "code",
   "execution_count": 14,
   "metadata": {},
   "outputs": [
    {
     "data": {
      "text/plain": [
       "['G', 'A', 'B', 'C', 'D', 'E', 'F#', 'G']"
      ]
     },
     "execution_count": 14,
     "metadata": {},
     "output_type": "execute_result"
    }
   ],
   "source": [
    "major_scale"
   ]
  },
  {
   "cell_type": "code",
   "execution_count": 15,
   "metadata": {},
   "outputs": [
    {
     "data": {
      "text/plain": [
       "['G', 'A', 'A#', 'C', 'D', 'E', 'F#', 'G']"
      ]
     },
     "execution_count": 15,
     "metadata": {},
     "output_type": "execute_result"
    }
   ],
   "source": [
    "minor_scale"
   ]
  },
  {
   "cell_type": "code",
   "execution_count": 16,
   "metadata": {},
   "outputs": [
    {
     "data": {
      "text/plain": [
       "['G', 'A', 'A#', 'C', 'C#', 'E', 'F#', 'G']"
      ]
     },
     "execution_count": 16,
     "metadata": {},
     "output_type": "execute_result"
    }
   ],
   "source": [
    "diminished_scale"
   ]
  },
  {
   "cell_type": "code",
   "execution_count": 17,
   "metadata": {},
   "outputs": [
    {
     "data": {
      "text/plain": [
       "['G', 'A', 'B', 'C', 'D#', 'E', 'F#', 'G']"
      ]
     },
     "execution_count": 17,
     "metadata": {},
     "output_type": "execute_result"
    }
   ],
   "source": [
    "augmented_scale"
   ]
  },
  {
   "cell_type": "code",
   "execution_count": 18,
   "metadata": {},
   "outputs": [],
   "source": [
    "major_triad_root = [major_scale[0],major_scale[2],major_scale[4]]\n",
    "minor_triad_root = [minor_scale[0],minor_scale[2],minor_scale[4]]\n",
    "diminished_triad_root = [diminished_scale[0],diminished_scale[2],diminished_scale[4]]\n",
    "augmented_triad_root = [augmented_scale[0],augmented_scale[2],augmented_scale[4]]\n",
    "major_triad_1st_inversion = [major_scale[2],major_scale[0],major_scale[4]]\n",
    "minor_triad_1st_inversion = [minor_scale[2],minor_scale[0],minor_scale[4]]\n",
    "diminished_triad_1st_inversion = [diminished_scale[2],diminished_scale[0],diminished_scale[4]]\n",
    "augmented_triad_1st_inversion = [augmented_scale[2],augmented_scale[0],augmented_scale[4]]\n",
    "major_triad_2nd_inversion = [major_scale[4],major_scale[0],major_scale[2]]\n",
    "minor_triad_2nd_inversion = [minor_scale[4],minor_scale[0],minor_scale[2]]\n",
    "diminished_triad_2nd_inversion = [diminished_scale[4],diminished_scale[0],diminished_scale[2]]\n",
    "augmented_triad_2nd_inversion = [augmented_scale[4],augmented_scale[0],augmented_scale[2]]"
   ]
  },
  {
   "cell_type": "code",
   "execution_count": 19,
   "metadata": {},
   "outputs": [
    {
     "name": "stdout",
     "output_type": "stream",
     "text": [
      "G Triad Chords: \n",
      "G Major Triad chord root position has                ['G', 'B', 'D'] notes\n",
      "G Major Triad chord 1st Inversion position has       ['B', 'G', 'D'] notes\n",
      "G Major Triad chord 1st Inversion position has       ['D', 'G', 'B'] notes\n",
      "G Minor Triad chord root position has                ['G', 'A#', 'D'] notes\n",
      "G Minor Triad chord 1st Inversion position has       ['A#', 'G', 'D'] notes\n",
      "G Minor Triad chord 1st Inversion position has       ['D', 'G', 'A#'] notes\n",
      "G Diminished Triad chord root position has           ['G', 'A#', 'C#'] notes\n",
      "G Diminished Triad chord 1st Inversion position has  ['A#', 'G', 'C#'] notes\n",
      "G Diminished Triad chord 1st Inversion position has  ['C#', 'G', 'A#'] notes\n",
      "G Augmented Triad chord root position has            ['G', 'B', 'D#'] notes\n",
      "G Augmented chord 1st Inversion position has         ['B', 'G', 'D#'] notes\n",
      "G Augmented Triad chord 1st Inversion position has   ['D#', 'G', 'B'] notes\n"
     ]
    }
   ],
   "source": [
    "print(enote ,\"Triad Chords: \")\n",
    "print(enote ,\"Major Triad chord root position has               \",major_triad_root,'notes')\n",
    "print(enote ,\"Major Triad chord 1st Inversion position has      \",major_triad_1st_inversion,'notes')\n",
    "print(enote ,\"Major Triad chord 1st Inversion position has      \",major_triad_2nd_inversion,'notes')\n",
    "print(enote ,\"Minor Triad chord root position has               \",minor_triad_root,'notes')\n",
    "print(enote ,\"Minor Triad chord 1st Inversion position has      \",minor_triad_1st_inversion,'notes')\n",
    "print(enote ,\"Minor Triad chord 1st Inversion position has      \",minor_triad_2nd_inversion,'notes')\n",
    "print(enote ,\"Diminished Triad chord root position has          \",diminished_triad_root,'notes')\n",
    "print(enote ,\"Diminished Triad chord 1st Inversion position has \",diminished_triad_1st_inversion,'notes')\n",
    "print(enote ,\"Diminished Triad chord 1st Inversion position has \",diminished_triad_2nd_inversion,'notes')\n",
    "print(enote ,\"Augmented Triad chord root position has           \",augmented_triad_root,'notes')\n",
    "print(enote ,\"Augmented chord 1st Inversion position has        \",augmented_triad_1st_inversion,'notes')\n",
    "print(enote ,\"Augmented Triad chord 1st Inversion position has  \",augmented_triad_2nd_inversion,'notes')"
   ]
  },
  {
   "cell_type": "code",
   "execution_count": null,
   "metadata": {},
   "outputs": [],
   "source": []
  }
 ],
 "metadata": {
  "kernelspec": {
   "display_name": "Python 3",
   "language": "python",
   "name": "python3"
  },
  "language_info": {
   "codemirror_mode": {
    "name": "ipython",
    "version": 3
   },
   "file_extension": ".py",
   "mimetype": "text/x-python",
   "name": "python",
   "nbconvert_exporter": "python",
   "pygments_lexer": "ipython3",
   "version": "3.7.6"
  }
 },
 "nbformat": 4,
 "nbformat_minor": 4
}
