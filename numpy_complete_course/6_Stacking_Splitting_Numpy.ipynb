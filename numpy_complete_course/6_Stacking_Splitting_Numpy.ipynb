{
 "cells": [
  {
   "cell_type": "code",
   "execution_count": 1,
   "metadata": {},
   "outputs": [],
   "source": [
    "import numpy as np\n",
    "from numpy import random"
   ]
  },
  {
   "cell_type": "code",
   "execution_count": 2,
   "metadata": {},
   "outputs": [
    {
     "name": "stdout",
     "output_type": "stream",
     "text": [
      "a1 [[6 6 4]\n",
      " [3 1 1]\n",
      " [3 5 4]]\n",
      "a2 [[6 7 1]\n",
      " [3 0 2]\n",
      " [3 6 1]]\n"
     ]
    }
   ],
   "source": [
    "a1 = np.random.randint(10,size=(3,3))\n",
    "a1\n",
    "print(\"a1\", a1)\n",
    "a2 = np.random.randint(10,size = (3,3))\n",
    "a2\n",
    "print(\"a2\", a2)"
   ]
  },
  {
   "cell_type": "code",
   "execution_count": 3,
   "metadata": {},
   "outputs": [
    {
     "data": {
      "text/plain": [
       "array([[6, 6, 4],\n",
       "       [3, 1, 1],\n",
       "       [3, 5, 4],\n",
       "       [6, 7, 1],\n",
       "       [3, 0, 2],\n",
       "       [3, 6, 1]])"
      ]
     },
     "execution_count": 3,
     "metadata": {},
     "output_type": "execute_result"
    }
   ],
   "source": [
    "np.vstack((a1,a2))"
   ]
  },
  {
   "cell_type": "code",
   "execution_count": 4,
   "metadata": {},
   "outputs": [
    {
     "data": {
      "text/plain": [
       "array([[6, 6, 4, 6, 7, 1],\n",
       "       [3, 1, 1, 3, 0, 2],\n",
       "       [3, 5, 4, 3, 6, 1]])"
      ]
     },
     "execution_count": 4,
     "metadata": {},
     "output_type": "execute_result"
    }
   ],
   "source": [
    "np.hstack((a1,a2))"
   ]
  },
  {
   "cell_type": "code",
   "execution_count": 5,
   "metadata": {},
   "outputs": [],
   "source": [
    "a3 = np.delete(a1, 1,0)"
   ]
  },
  {
   "cell_type": "code",
   "execution_count": 6,
   "metadata": {},
   "outputs": [
    {
     "data": {
      "text/plain": [
       "array([[6, 6, 4],\n",
       "       [3, 5, 4]])"
      ]
     },
     "execution_count": 6,
     "metadata": {},
     "output_type": "execute_result"
    }
   ],
   "source": [
    "a3"
   ]
  },
  {
   "cell_type": "code",
   "execution_count": 7,
   "metadata": {},
   "outputs": [],
   "source": [
    "a3 = np.delete(a1, 2,1)"
   ]
  },
  {
   "cell_type": "code",
   "execution_count": 8,
   "metadata": {},
   "outputs": [
    {
     "data": {
      "text/plain": [
       "array([[6, 6],\n",
       "       [3, 1],\n",
       "       [3, 5]])"
      ]
     },
     "execution_count": 8,
     "metadata": {},
     "output_type": "execute_result"
    }
   ],
   "source": [
    "a3"
   ]
  },
  {
   "cell_type": "code",
   "execution_count": 9,
   "metadata": {},
   "outputs": [
    {
     "data": {
      "text/plain": [
       "array([[6, 6, 4, 6, 7, 1],\n",
       "       [3, 1, 1, 3, 0, 2],\n",
       "       [3, 5, 4, 3, 6, 1]])"
      ]
     },
     "execution_count": 9,
     "metadata": {},
     "output_type": "execute_result"
    }
   ],
   "source": [
    "np.column_stack((a1,a2))"
   ]
  },
  {
   "cell_type": "code",
   "execution_count": 10,
   "metadata": {},
   "outputs": [
    {
     "data": {
      "text/plain": [
       "array([[6, 6, 4],\n",
       "       [3, 1, 1],\n",
       "       [3, 5, 4],\n",
       "       [6, 7, 1],\n",
       "       [3, 0, 2],\n",
       "       [3, 6, 1]])"
      ]
     },
     "execution_count": 10,
     "metadata": {},
     "output_type": "execute_result"
    }
   ],
   "source": [
    "np.row_stack((a1,a2))"
   ]
  },
  {
   "cell_type": "code",
   "execution_count": 11,
   "metadata": {},
   "outputs": [],
   "source": [
    "a5 = np.random.randint(20, size=(10,2))"
   ]
  },
  {
   "cell_type": "code",
   "execution_count": 12,
   "metadata": {},
   "outputs": [
    {
     "data": {
      "text/plain": [
       "array([[ 7, 11],\n",
       "       [ 9, 11],\n",
       "       [17,  6],\n",
       "       [ 4,  8],\n",
       "       [ 0,  2],\n",
       "       [ 2,  9],\n",
       "       [13,  8],\n",
       "       [ 1,  1],\n",
       "       [14,  5],\n",
       "       [ 5, 12]])"
      ]
     },
     "execution_count": 12,
     "metadata": {},
     "output_type": "execute_result"
    }
   ],
   "source": [
    "a5"
   ]
  },
  {
   "cell_type": "code",
   "execution_count": 13,
   "metadata": {},
   "outputs": [
    {
     "data": {
      "text/plain": [
       "[array([[ 7, 11],\n",
       "        [ 9, 11]]),\n",
       " array([[17,  6],\n",
       "        [ 4,  8]]),\n",
       " array([[0, 2],\n",
       "        [2, 9]]),\n",
       " array([[13,  8],\n",
       "        [ 1,  1]]),\n",
       " array([[14,  5],\n",
       "        [ 5, 12]])]"
      ]
     },
     "execution_count": 13,
     "metadata": {},
     "output_type": "execute_result"
    }
   ],
   "source": [
    "np.vsplit(a5,5)"
   ]
  },
  {
   "cell_type": "code",
   "execution_count": 16,
   "metadata": {},
   "outputs": [
    {
     "data": {
      "text/plain": [
       "[array([[ 7],\n",
       "        [ 9],\n",
       "        [17],\n",
       "        [ 4],\n",
       "        [ 0],\n",
       "        [ 2],\n",
       "        [13],\n",
       "        [ 1],\n",
       "        [14],\n",
       "        [ 5]]),\n",
       " array([[11],\n",
       "        [11],\n",
       "        [ 6],\n",
       "        [ 8],\n",
       "        [ 2],\n",
       "        [ 9],\n",
       "        [ 8],\n",
       "        [ 1],\n",
       "        [ 5],\n",
       "        [12]])]"
      ]
     },
     "execution_count": 16,
     "metadata": {},
     "output_type": "execute_result"
    }
   ],
   "source": [
    "np.hsplit(a5,2)"
   ]
  },
  {
   "cell_type": "code",
   "execution_count": 17,
   "metadata": {},
   "outputs": [
    {
     "data": {
      "text/plain": [
       "array([[19, 17,  1, 18, 17, 14,  1, 12,  4,  3],\n",
       "       [ 4, 10, 17,  5, 14,  4,  7,  4, 16,  0],\n",
       "       [16,  7,  2,  0, 12, 16, 17,  9,  2, 14],\n",
       "       [11, 16, 13, 18,  5, 10,  8, 14,  3, 15],\n",
       "       [ 7, 17, 18,  7,  6,  2,  3, 11,  4,  7],\n",
       "       [16,  9, 17, 12, 14,  3,  5, 14,  0, 16],\n",
       "       [ 3,  6,  3, 12, 17,  8,  4,  5,  7,  4],\n",
       "       [ 6,  7, 10, 17, 17,  5, 11, 13, 17,  8],\n",
       "       [ 9,  2, 19, 14, 13, 11,  2, 14, 18, 14],\n",
       "       [ 9,  2,  9, 13,  2, 16, 13, 14,  1,  9]])"
      ]
     },
     "execution_count": 17,
     "metadata": {},
     "output_type": "execute_result"
    }
   ],
   "source": [
    "a6 = np.random.randint(20, size=(10,10))\n",
    "a6"
   ]
  },
  {
   "cell_type": "code",
   "execution_count": 18,
   "metadata": {},
   "outputs": [
    {
     "data": {
      "text/plain": [
       "[array([[19, 17],\n",
       "        [ 4, 10],\n",
       "        [16,  7],\n",
       "        [11, 16],\n",
       "        [ 7, 17],\n",
       "        [16,  9],\n",
       "        [ 3,  6],\n",
       "        [ 6,  7],\n",
       "        [ 9,  2],\n",
       "        [ 9,  2]]),\n",
       " array([[ 1, 18],\n",
       "        [17,  5],\n",
       "        [ 2,  0],\n",
       "        [13, 18],\n",
       "        [18,  7],\n",
       "        [17, 12],\n",
       "        [ 3, 12],\n",
       "        [10, 17],\n",
       "        [19, 14],\n",
       "        [ 9, 13]]),\n",
       " array([[17, 14],\n",
       "        [14,  4],\n",
       "        [12, 16],\n",
       "        [ 5, 10],\n",
       "        [ 6,  2],\n",
       "        [14,  3],\n",
       "        [17,  8],\n",
       "        [17,  5],\n",
       "        [13, 11],\n",
       "        [ 2, 16]]),\n",
       " array([[ 1, 12],\n",
       "        [ 7,  4],\n",
       "        [17,  9],\n",
       "        [ 8, 14],\n",
       "        [ 3, 11],\n",
       "        [ 5, 14],\n",
       "        [ 4,  5],\n",
       "        [11, 13],\n",
       "        [ 2, 14],\n",
       "        [13, 14]]),\n",
       " array([[ 4,  3],\n",
       "        [16,  0],\n",
       "        [ 2, 14],\n",
       "        [ 3, 15],\n",
       "        [ 4,  7],\n",
       "        [ 0, 16],\n",
       "        [ 7,  4],\n",
       "        [17,  8],\n",
       "        [18, 14],\n",
       "        [ 1,  9]])]"
      ]
     },
     "execution_count": 18,
     "metadata": {},
     "output_type": "execute_result"
    }
   ],
   "source": [
    "np.hsplit(a6,5)"
   ]
  },
  {
   "cell_type": "code",
   "execution_count": 19,
   "metadata": {},
   "outputs": [
    {
     "data": {
      "text/plain": [
       "[array([[19, 17,  1, 18, 17, 14,  1, 12,  4,  3],\n",
       "        [ 4, 10, 17,  5, 14,  4,  7,  4, 16,  0]]),\n",
       " array([[16,  7,  2,  0, 12, 16, 17,  9,  2, 14],\n",
       "        [11, 16, 13, 18,  5, 10,  8, 14,  3, 15]]),\n",
       " array([[ 7, 17, 18,  7,  6,  2,  3, 11,  4,  7],\n",
       "        [16,  9, 17, 12, 14,  3,  5, 14,  0, 16]]),\n",
       " array([[ 3,  6,  3, 12, 17,  8,  4,  5,  7,  4],\n",
       "        [ 6,  7, 10, 17, 17,  5, 11, 13, 17,  8]]),\n",
       " array([[ 9,  2, 19, 14, 13, 11,  2, 14, 18, 14],\n",
       "        [ 9,  2,  9, 13,  2, 16, 13, 14,  1,  9]])]"
      ]
     },
     "execution_count": 19,
     "metadata": {},
     "output_type": "execute_result"
    }
   ],
   "source": [
    "np.vsplit(a6,5)"
   ]
  },
  {
   "cell_type": "code",
   "execution_count": null,
   "metadata": {},
   "outputs": [],
   "source": []
  }
 ],
 "metadata": {
  "kernelspec": {
   "display_name": "Python 3",
   "language": "python",
   "name": "python3"
  },
  "language_info": {
   "codemirror_mode": {
    "name": "ipython",
    "version": 3
   },
   "file_extension": ".py",
   "mimetype": "text/x-python",
   "name": "python",
   "nbconvert_exporter": "python",
   "pygments_lexer": "ipython3",
   "version": "3.7.6"
  }
 },
 "nbformat": 4,
 "nbformat_minor": 4
}
