{
 "cells": [
  {
   "cell_type": "markdown",
   "metadata": {},
   "source": [
    "# Linear Algebra"
   ]
  },
  {
   "cell_type": "code",
   "execution_count": 3,
   "metadata": {},
   "outputs": [],
   "source": [
    "import numpy as np"
   ]
  },
  {
   "cell_type": "code",
   "execution_count": 4,
   "metadata": {},
   "outputs": [],
   "source": [
    "from numpy import random\n",
    "from numpy import linalg as la"
   ]
  },
  {
   "cell_type": "code",
   "execution_count": 5,
   "metadata": {},
   "outputs": [],
   "source": [
    "a1 = np.array([1,2,3])\n",
    "a2 = np.array([4,5,6])"
   ]
  },
  {
   "cell_type": "markdown",
   "metadata": {},
   "source": [
    "The dot product of two vectors a = [a1, a2, …, an] and b = [b1, b2, …, bn] is defined as:\n",
    "    "
   ]
  },
  {
   "cell_type": "markdown",
   "metadata": {},
   "source": [
    "<img src = \"dp.png\">"
   ]
  },
  {
   "cell_type": "markdown",
   "metadata": {},
   "source": [
    "a1.a2 = (1 * 4) + (2 * 5) + (3 * 6)"
   ]
  },
  {
   "cell_type": "code",
   "execution_count": 6,
   "metadata": {},
   "outputs": [
    {
     "data": {
      "text/plain": [
       "32"
      ]
     },
     "execution_count": 6,
     "metadata": {},
     "output_type": "execute_result"
    }
   ],
   "source": [
    "np.dot(a1,a2)"
   ]
  },
  {
   "cell_type": "code",
   "execution_count": 7,
   "metadata": {},
   "outputs": [
    {
     "data": {
      "text/plain": [
       "array([[1.47713076, 4.87699456, 4.20721342, 4.37964639, 2.91809624,\n",
       "        3.22942791, 2.96815685, 3.09293858, 2.92172074, 4.48545025,\n",
       "        3.43089459, 4.40818821, 4.04814147, 3.69071783, 2.68782677,\n",
       "        3.52679217, 3.25625363, 3.93919851, 4.24987734, 4.58887926],\n",
       "       [0.77443432, 2.71838304, 2.52409066, 2.53217481, 1.69126575,\n",
       "        1.74932138, 1.67476096, 1.80188241, 1.61167438, 2.75951742,\n",
       "        2.00762718, 2.47101634, 2.38244687, 2.11378944, 1.55247699,\n",
       "        2.11242273, 1.84170862, 2.09791266, 2.43315013, 2.56697559],\n",
       "       [0.83774504, 2.6463714 , 2.24897961, 2.32938417, 1.58481243,\n",
       "        1.7841047 , 1.60054212, 1.70546118, 1.59437388, 2.39289879,\n",
       "        1.84136285, 2.36159594, 2.1391109 , 2.01526502, 1.43256513,\n",
       "        1.93489178, 1.75707441, 2.19363126, 2.31558185, 2.46666453],\n",
       "       [1.01682855, 3.5678764 , 3.24072078, 3.18729875, 2.2328605 ,\n",
       "        2.1854715 , 2.18750201, 2.17848158, 1.90285888, 3.46989704,\n",
       "        2.64844842, 3.21387805, 2.93157539, 2.64939299, 1.85627303,\n",
       "        2.59173068, 2.32721642, 2.43019075, 2.97583226, 3.10628914],\n",
       "       [1.45443518, 4.96728807, 4.49327141, 4.61743982, 3.02719618,\n",
       "        3.29146233, 3.04851393, 3.31182456, 3.06164607, 4.89223819,\n",
       "        3.58035771, 4.52007177, 4.3426899 , 3.87206633, 2.87927832,\n",
       "        3.81682329, 3.38635374, 4.07026557, 4.49399299, 4.81181031],\n",
       "       [1.02528781, 3.46961527, 3.19194845, 3.21808894, 2.1490975 ,\n",
       "        2.29621494, 2.12948821, 2.36581614, 2.12484129, 3.49920512,\n",
       "        2.53051194, 3.13391718, 3.03024113, 2.7367831 , 2.00252036,\n",
       "        2.74779132, 2.36375464, 2.8257654 , 3.16620459, 3.32688608],\n",
       "       [1.07052023, 3.5876943 , 3.24195653, 3.23913108, 2.22446665,\n",
       "        2.3244788 , 2.19291486, 2.34482294, 2.08588626, 3.50930207,\n",
       "        2.6128887 , 3.21841857, 3.00853921, 2.76058513, 1.96448357,\n",
       "        2.73644997, 2.39203329, 2.76563729, 3.15366544, 3.29408109],\n",
       "       [1.53645416, 5.25376536, 4.78471565, 4.80559213, 3.25217101,\n",
       "        3.39518021, 3.2214714 , 3.43791433, 3.08215139, 5.19343146,\n",
       "        3.83953382, 4.74477866, 4.48604158, 4.05027624, 2.92850968,\n",
       "        4.01384397, 3.52584007, 4.05590176, 4.64381438, 4.88808614],\n",
       "       [0.8017579 , 2.63305594, 2.3389375 , 2.41324052, 1.59536734,\n",
       "        1.78069819, 1.60718491, 1.77544136, 1.64628096, 2.53992961,\n",
       "        1.86991559, 2.37609279, 2.25994299, 2.06152616, 1.51427288,\n",
       "        2.02895276, 1.79111317, 2.23136786, 2.39462594, 2.55257485],\n",
       "       [0.33298699, 1.23889004, 1.22458895, 1.2171521 , 0.78737759,\n",
       "        0.80097411, 0.77308762, 0.880626  , 0.7733841 , 1.37415103,\n",
       "        0.94376265, 1.1408872 , 1.1735734 , 1.00529183, 0.76620223,\n",
       "        1.04255766, 0.8679725 , 0.98750198, 1.17333832, 1.23191139]])"
      ]
     },
     "execution_count": 7,
     "metadata": {},
     "output_type": "execute_result"
    }
   ],
   "source": [
    "mdA = np.random.random((10, 4))\n",
    "mdB = np.random.random((4, 6))\n",
    "mdC = np.random.random((6, 20))\n",
    "\n",
    "la.multi_dot([mdA,mdB,mdC])"
   ]
  },
  {
   "cell_type": "code",
   "execution_count": 8,
   "metadata": {},
   "outputs": [
    {
     "data": {
      "text/plain": [
       "32"
      ]
     },
     "execution_count": 8,
     "metadata": {},
     "output_type": "execute_result"
    }
   ],
   "source": [
    "np.inner(a1,a2)"
   ]
  },
  {
   "cell_type": "code",
   "execution_count": 9,
   "metadata": {},
   "outputs": [],
   "source": [
    "a4 = ([[[1,2],[3,4]],[[5,6],[7,8]]])"
   ]
  },
  {
   "cell_type": "code",
   "execution_count": 10,
   "metadata": {},
   "outputs": [
    {
     "data": {
      "text/plain": [
       "[[[1, 2], [3, 4]], [[5, 6], [7, 8]]]"
      ]
     },
     "execution_count": 10,
     "metadata": {},
     "output_type": "execute_result"
    }
   ],
   "source": [
    "a4"
   ]
  },
  {
   "cell_type": "code",
   "execution_count": 11,
   "metadata": {},
   "outputs": [],
   "source": [
    "a5 = ([1,2],[3,4])"
   ]
  },
  {
   "cell_type": "code",
   "execution_count": 12,
   "metadata": {},
   "outputs": [
    {
     "data": {
      "text/plain": [
       "array([30, 70])"
      ]
     },
     "execution_count": 12,
     "metadata": {},
     "output_type": "execute_result"
    }
   ],
   "source": [
    "np.tensordot(a4,a5)"
   ]
  },
  {
   "cell_type": "code",
   "execution_count": 13,
   "metadata": {},
   "outputs": [],
   "source": [
    "a6 = np.array([0,5])\n",
    "a7 = np.array([[1,2,3,4],[5,6,7,8]], dtype = object)"
   ]
  },
  {
   "cell_type": "code",
   "execution_count": 14,
   "metadata": {},
   "outputs": [
    {
     "data": {
      "text/plain": [
       "5"
      ]
     },
     "execution_count": 14,
     "metadata": {},
     "output_type": "execute_result"
    }
   ],
   "source": [
    "np.einsum('i ->',a6)"
   ]
  },
  {
   "cell_type": "code",
   "execution_count": 18,
   "metadata": {},
   "outputs": [
    {
     "data": {
      "text/plain": [
       "array([[7, 4],\n",
       "       [6, 7]])"
      ]
     },
     "execution_count": 18,
     "metadata": {},
     "output_type": "execute_result"
    }
   ],
   "source": [
    "squarematrix =np.array([[1,2],[3,1]])\n",
    "la.matrix_power(squarematrix,2)\n"
   ]
  },
  {
   "cell_type": "code",
   "execution_count": 17,
   "metadata": {},
   "outputs": [],
   "source": [
    "a8 = np.array([[1,2],[3,4]])"
   ]
  },
  {
   "cell_type": "code",
   "execution_count": 32,
   "metadata": {},
   "outputs": [
    {
     "data": {
      "text/plain": [
       "array([[ 7, 10],\n",
       "       [15, 22]])"
      ]
     },
     "execution_count": 32,
     "metadata": {},
     "output_type": "execute_result"
    }
   ],
   "source": [
    "la.matrix_power(a8,2)"
   ]
  },
  {
   "cell_type": "code",
   "execution_count": 33,
   "metadata": {},
   "outputs": [
    {
     "data": {
      "text/plain": [
       "array([ 4,  5,  6,  8, 10, 12, 12, 15, 18])"
      ]
     },
     "execution_count": 33,
     "metadata": {},
     "output_type": "execute_result"
    }
   ],
   "source": [
    "np.kron(a1,a2)"
   ]
  },
  {
   "cell_type": "code",
   "execution_count": 35,
   "metadata": {},
   "outputs": [
    {
     "data": {
      "text/plain": [
       "(array([-0.37228132,  5.37228132]),\n",
       " array([[-0.82456484, -0.41597356],\n",
       "        [ 0.56576746, -0.90937671]]))"
      ]
     },
     "execution_count": 35,
     "metadata": {},
     "output_type": "execute_result"
    }
   ],
   "source": [
    "la.eig(a8)"
   ]
  },
  {
   "cell_type": "code",
   "execution_count": 36,
   "metadata": {},
   "outputs": [
    {
     "data": {
      "text/plain": [
       "5.477225575051661"
      ]
     },
     "execution_count": 36,
     "metadata": {},
     "output_type": "execute_result"
    }
   ],
   "source": [
    "la.norm(a8)"
   ]
  },
  {
   "cell_type": "code",
   "execution_count": 37,
   "metadata": {},
   "outputs": [
    {
     "data": {
      "text/plain": [
       "array([-0.37228132,  5.37228132])"
      ]
     },
     "execution_count": 37,
     "metadata": {},
     "output_type": "execute_result"
    }
   ],
   "source": [
    "la.eigvals(a8)"
   ]
  },
  {
   "cell_type": "code",
   "execution_count": 40,
   "metadata": {},
   "outputs": [
    {
     "data": {
      "text/plain": [
       "14.933034373659268"
      ]
     },
     "execution_count": 40,
     "metadata": {},
     "output_type": "execute_result"
    }
   ],
   "source": [
    "la.cond(a8)"
   ]
  },
  {
   "cell_type": "code",
   "execution_count": 42,
   "metadata": {},
   "outputs": [
    {
     "name": "stdout",
     "output_type": "stream",
     "text": [
      "[[1 2]\n",
      " [3 4]]\n"
     ]
    },
    {
     "data": {
      "text/plain": [
       "-2.0000000000000004"
      ]
     },
     "execution_count": 42,
     "metadata": {},
     "output_type": "execute_result"
    }
   ],
   "source": [
    "print(a8)\n",
    "la.det(a8)"
   ]
  },
  {
   "cell_type": "code",
   "execution_count": 43,
   "metadata": {},
   "outputs": [
    {
     "data": {
      "text/plain": [
       "array([[1., 0.],\n",
       "       [0., 1.]])"
      ]
     },
     "execution_count": 43,
     "metadata": {},
     "output_type": "execute_result"
    }
   ],
   "source": [
    "np.eye(2,2)"
   ]
  },
  {
   "cell_type": "code",
   "execution_count": 55,
   "metadata": {},
   "outputs": [
    {
     "data": {
      "text/plain": [
       "array([-0.57142857,  1.85714286])"
      ]
     },
     "execution_count": 55,
     "metadata": {},
     "output_type": "execute_result"
    }
   ],
   "source": [
    "a9 = np.array([[3,2],[1,3]])\n",
    "ans = np.array([2,5])\n",
    "la.solve(a9,ans)"
   ]
  },
  {
   "cell_type": "code",
   "execution_count": 47,
   "metadata": {},
   "outputs": [
    {
     "data": {
      "text/plain": [
       "array([[ 1. , -1. ],\n",
       "       [-0.5,  1.5]])"
      ]
     },
     "execution_count": 47,
     "metadata": {},
     "output_type": "execute_result"
    }
   ],
   "source": [
    "la.solve(a8,a9)"
   ]
  },
  {
   "cell_type": "code",
   "execution_count": 48,
   "metadata": {},
   "outputs": [
    {
     "data": {
      "text/plain": [
       "array([1, 4])"
      ]
     },
     "execution_count": 48,
     "metadata": {},
     "output_type": "execute_result"
    }
   ],
   "source": [
    "np.diag(a8)"
   ]
  },
  {
   "cell_type": "code",
   "execution_count": 49,
   "metadata": {},
   "outputs": [],
   "source": [
    "a10 = random.randint(20,size=(5,5))"
   ]
  },
  {
   "cell_type": "code",
   "execution_count": 50,
   "metadata": {},
   "outputs": [
    {
     "data": {
      "text/plain": [
       "array([[18,  2,  9, 13, 16],\n",
       "       [ 7, 18, 19, 16, 18],\n",
       "       [19, 19, 11,  2, 15],\n",
       "       [ 8,  6, 15, 11, 16],\n",
       "       [ 7, 11,  6, 10, 11]])"
      ]
     },
     "execution_count": 50,
     "metadata": {},
     "output_type": "execute_result"
    }
   ],
   "source": [
    "a10"
   ]
  },
  {
   "cell_type": "code",
   "execution_count": 51,
   "metadata": {},
   "outputs": [
    {
     "data": {
      "text/plain": [
       "array([18, 18, 11, 11, 11])"
      ]
     },
     "execution_count": 51,
     "metadata": {},
     "output_type": "execute_result"
    }
   ],
   "source": [
    "np.einsum('ii->i', a10)"
   ]
  },
  {
   "cell_type": "code",
   "execution_count": 53,
   "metadata": {},
   "outputs": [
    {
     "data": {
      "text/plain": [
       "array([58, 78, 66, 56, 45])"
      ]
     },
     "execution_count": 53,
     "metadata": {},
     "output_type": "execute_result"
    }
   ],
   "source": [
    "np.einsum('ij->i', a10)"
   ]
  },
  {
   "cell_type": "code",
   "execution_count": 54,
   "metadata": {},
   "outputs": [
    {
     "data": {
      "text/plain": [
       "array([59, 56, 60, 52, 76])"
      ]
     },
     "execution_count": 54,
     "metadata": {},
     "output_type": "execute_result"
    }
   ],
   "source": [
    "np.einsum('ji->i', a10)"
   ]
  },
  {
   "cell_type": "code",
   "execution_count": null,
   "metadata": {},
   "outputs": [],
   "source": []
  }
 ],
 "metadata": {
  "kernelspec": {
   "display_name": "Python 3",
   "language": "python",
   "name": "python3"
  },
  "language_info": {
   "codemirror_mode": {
    "name": "ipython",
    "version": 3
   },
   "file_extension": ".py",
   "mimetype": "text/x-python",
   "name": "python",
   "nbconvert_exporter": "python",
   "pygments_lexer": "ipython3",
   "version": "3.7.6"
  }
 },
 "nbformat": 4,
 "nbformat_minor": 4
}
